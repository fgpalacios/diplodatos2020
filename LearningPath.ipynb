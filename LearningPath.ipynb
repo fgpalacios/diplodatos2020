{
  "nbformat": 4,
  "nbformat_minor": 0,
  "metadata": {
    "colab": {
      "name": "LearningPath.ipynb",
      "provenance": [],
      "collapsed_sections": [],
      "include_colab_link": true
    },
    "kernelspec": {
      "name": "python3",
      "display_name": "Python 3"
    }
  },
  "cells": [
    {
      "cell_type": "markdown",
      "metadata": {
        "id": "view-in-github",
        "colab_type": "text"
      },
      "source": [
        "<a href=\"https://colab.research.google.com/github/fgpalacios/diplodatos2020/blob/master/LearningPath.ipynb\" target=\"_parent\"><img src=\"https://colab.research.google.com/assets/colab-badge.svg\" alt=\"Open In Colab\"/></a>"
      ]
    },
    {
      "cell_type": "code",
      "metadata": {
        "id": "rUQWCkH7Htdx",
        "colab_type": "code",
        "colab": {}
      },
      "source": [
        "#Cargamos algunas librerías, quizás falten, quizás sobren\n",
        "import matplotlib.pyplot as plt\n",
        "import numpy as np\n",
        "import numpy\n",
        "import pandas as pd\n",
        "import pandas\n",
        "import seaborn\n",
        "import seaborn as sns\n",
        "import scipy\n",
        "from scipy import stats"
      ],
      "execution_count": null,
      "outputs": []
    },
    {
      "cell_type": "code",
      "metadata": {
        "id": "VaDpsWi6H2Sm",
        "colab_type": "code",
        "colab": {}
      },
      "source": [
        "#Ponemos los nodos en datanod y las relaciones en datarel\n",
        "datanod = pandas.read_csv(\n",
        "    'https://raw.githubusercontent.com/fgpalacios/diplodatos2020/master/dataset/nodes.csv')\n",
        "\n",
        "datarel = pandas.read_csv(\n",
        "    'https://raw.githubusercontent.com/fgpalacios/diplodatos2020/master/dataset/relationships.csv')\n"
      ],
      "execution_count": null,
      "outputs": []
    },
    {
      "cell_type": "markdown",
      "metadata": {
        "id": "9hHR9g08JB-i",
        "colab_type": "text"
      },
      "source": [
        ""
      ]
    },
    {
      "cell_type": "markdown",
      "metadata": {
        "id": "ffVIEVycJLPX",
        "colab_type": "text"
      },
      "source": [
        "**Objetivo:**  Obtener una visualización de las personas, sus conocimientos. Para eso conozcamos un poco el dataset"
      ]
    },
    {
      "cell_type": "code",
      "metadata": {
        "id": "2avBvjbzKLRS",
        "colab_type": "code",
        "colab": {
          "base_uri": "https://localhost:8080/",
          "height": 69
        },
        "outputId": "cff0ba01-e31a-41d5-879f-e21d47934516"
      },
      "source": [
        "datanod.columns"
      ],
      "execution_count": null,
      "outputs": [
        {
          "output_type": "execute_result",
          "data": {
            "text/plain": [
              "Index(['n.id', 'name_node_a', 'n.type', 'n.category', 'n.gender', 'n.age',\n",
              "       'n.experience'],\n",
              "      dtype='object')"
            ]
          },
          "metadata": {
            "tags": []
          },
          "execution_count": 25
        }
      ]
    },
    {
      "cell_type": "code",
      "metadata": {
        "id": "J_fIWk99KOk5",
        "colab_type": "code",
        "colab": {
          "base_uri": "https://localhost:8080/",
          "height": 69
        },
        "outputId": "b98c4704-c4a7-4c3b-e7b3-e54760e47724"
      },
      "source": [
        "datarel.columns"
      ],
      "execution_count": null,
      "outputs": [
        {
          "output_type": "execute_result",
          "data": {
            "text/plain": [
              "Index(['id_node_a', 'name_node_a', 'id_node_b', 'name_node_b',\n",
              "       'id_relationship'],\n",
              "      dtype='object')"
            ]
          },
          "metadata": {
            "tags": []
          },
          "execution_count": 26
        }
      ]
    },
    {
      "cell_type": "markdown",
      "metadata": {
        "id": "OMhi-OfUWv0Y",
        "colab_type": "text"
      },
      "source": [
        "#datanod"
      ]
    },
    {
      "cell_type": "code",
      "metadata": {
        "id": "F5yu6PnUN4dz",
        "colab_type": "code",
        "colab": {
          "base_uri": "https://localhost:8080/",
          "height": 156
        },
        "outputId": "4bec0b61-0644-498b-9231-cb55d974287c"
      },
      "source": [
        "datanod[datanod['n.type']=='person'].count()"
      ],
      "execution_count": null,
      "outputs": [
        {
          "output_type": "execute_result",
          "data": {
            "text/plain": [
              "n.id            14\n",
              "name_node_a     14\n",
              "n.type          14\n",
              "n.category      14\n",
              "n.gender        14\n",
              "n.age           14\n",
              "n.experience    14\n",
              "dtype: int64"
            ]
          },
          "metadata": {
            "tags": []
          },
          "execution_count": 27
        }
      ]
    },
    {
      "cell_type": "code",
      "metadata": {
        "id": "wE8X6FAaOH56",
        "colab_type": "code",
        "colab": {
          "base_uri": "https://localhost:8080/",
          "height": 478
        },
        "outputId": "2443a808-bf38-4645-a823-fc255d99f696"
      },
      "source": [
        "datanod[datanod['n.type']=='person']"
      ],
      "execution_count": null,
      "outputs": [
        {
          "output_type": "execute_result",
          "data": {
            "text/html": [
              "<div>\n",
              "<style scoped>\n",
              "    .dataframe tbody tr th:only-of-type {\n",
              "        vertical-align: middle;\n",
              "    }\n",
              "\n",
              "    .dataframe tbody tr th {\n",
              "        vertical-align: top;\n",
              "    }\n",
              "\n",
              "    .dataframe thead th {\n",
              "        text-align: right;\n",
              "    }\n",
              "</style>\n",
              "<table border=\"1\" class=\"dataframe\">\n",
              "  <thead>\n",
              "    <tr style=\"text-align: right;\">\n",
              "      <th></th>\n",
              "      <th>n.id</th>\n",
              "      <th>name_node_a</th>\n",
              "      <th>n.type</th>\n",
              "      <th>n.category</th>\n",
              "      <th>n.gender</th>\n",
              "      <th>n.age</th>\n",
              "      <th>n.experience</th>\n",
              "    </tr>\n",
              "  </thead>\n",
              "  <tbody>\n",
              "    <tr>\n",
              "      <th>2</th>\n",
              "      <td>1ae7f988daa7541df8d9eba692e3949d-c81e728d9d4c2...</td>\n",
              "      <td>Marcela</td>\n",
              "      <td>person</td>\n",
              "      <td>junior</td>\n",
              "      <td>female</td>\n",
              "      <td>23.0</td>\n",
              "      <td>3.0</td>\n",
              "    </tr>\n",
              "    <tr>\n",
              "      <th>3</th>\n",
              "      <td>f496c7004f07dba853bf8fadc28c9650-c81e728d9d4c2...</td>\n",
              "      <td>Daniel</td>\n",
              "      <td>person</td>\n",
              "      <td>senior</td>\n",
              "      <td>male</td>\n",
              "      <td>44.0</td>\n",
              "      <td>11.0</td>\n",
              "    </tr>\n",
              "    <tr>\n",
              "      <th>4</th>\n",
              "      <td>e726642e86168eacfeee3fa8c4da012e-c81e728d9d4c2...</td>\n",
              "      <td>Leonardo</td>\n",
              "      <td>person</td>\n",
              "      <td>senior</td>\n",
              "      <td>male</td>\n",
              "      <td>45.0</td>\n",
              "      <td>16.0</td>\n",
              "    </tr>\n",
              "    <tr>\n",
              "      <th>5</th>\n",
              "      <td>10c246e19e023f335e179b937c28a6da-c81e728d9d4c2...</td>\n",
              "      <td>Matias</td>\n",
              "      <td>person</td>\n",
              "      <td>junior</td>\n",
              "      <td>male</td>\n",
              "      <td>25.0</td>\n",
              "      <td>2.0</td>\n",
              "    </tr>\n",
              "    <tr>\n",
              "      <th>6</th>\n",
              "      <td>bcb93d9680b08656367b3682a9b4c127-c81e728d9d4c2...</td>\n",
              "      <td>Lionel</td>\n",
              "      <td>person</td>\n",
              "      <td>semi-senior</td>\n",
              "      <td>male</td>\n",
              "      <td>35.0</td>\n",
              "      <td>3.0</td>\n",
              "    </tr>\n",
              "    <tr>\n",
              "      <th>7</th>\n",
              "      <td>f9fdac801645d8b673ce785f01658a1e-c81e728d9d4c2...</td>\n",
              "      <td>Miguel</td>\n",
              "      <td>person</td>\n",
              "      <td>junior</td>\n",
              "      <td>male</td>\n",
              "      <td>24.0</td>\n",
              "      <td>2.0</td>\n",
              "    </tr>\n",
              "    <tr>\n",
              "      <th>8</th>\n",
              "      <td>822736b3fe21296f7d5c35a5e13d3ca3-c81e728d9d4c2...</td>\n",
              "      <td>Luciana</td>\n",
              "      <td>person</td>\n",
              "      <td>semi-senior</td>\n",
              "      <td>female</td>\n",
              "      <td>34.0</td>\n",
              "      <td>4.0</td>\n",
              "    </tr>\n",
              "    <tr>\n",
              "      <th>9</th>\n",
              "      <td>a5b6fc8ad5a79c2b57af4137389a7b6b-c81e728d9d4c2...</td>\n",
              "      <td>Marcelo</td>\n",
              "      <td>person</td>\n",
              "      <td>senior</td>\n",
              "      <td>male</td>\n",
              "      <td>41.0</td>\n",
              "      <td>12.0</td>\n",
              "    </tr>\n",
              "    <tr>\n",
              "      <th>18</th>\n",
              "      <td>79b60482d282d7fe48287ef484be2d31-a87ff679a2f3e...</td>\n",
              "      <td>Jonatan</td>\n",
              "      <td>person</td>\n",
              "      <td>senior</td>\n",
              "      <td>male</td>\n",
              "      <td>33.0</td>\n",
              "      <td>7.0</td>\n",
              "    </tr>\n",
              "    <tr>\n",
              "      <th>19</th>\n",
              "      <td>6bb28c0af81044a5f2bf023eb7f253e2-a87ff679a2f3e...</td>\n",
              "      <td>Lucas</td>\n",
              "      <td>person</td>\n",
              "      <td>senior</td>\n",
              "      <td>male</td>\n",
              "      <td>35.0</td>\n",
              "      <td>6.0</td>\n",
              "    </tr>\n",
              "    <tr>\n",
              "      <th>20</th>\n",
              "      <td>51280652ee54bf9e25636110b859faf5-a87ff679a2f3e...</td>\n",
              "      <td>Fernando</td>\n",
              "      <td>person</td>\n",
              "      <td>semi-senior</td>\n",
              "      <td>male</td>\n",
              "      <td>28.0</td>\n",
              "      <td>4.0</td>\n",
              "    </tr>\n",
              "    <tr>\n",
              "      <th>21</th>\n",
              "      <td>f6b8790fd8dcb51f4ccec2e19f6db824-a87ff679a2f3e...</td>\n",
              "      <td>Gastón</td>\n",
              "      <td>person</td>\n",
              "      <td>semi-senior</td>\n",
              "      <td>male</td>\n",
              "      <td>27.0</td>\n",
              "      <td>3.0</td>\n",
              "    </tr>\n",
              "    <tr>\n",
              "      <th>22</th>\n",
              "      <td>533348a1f755b9512eb8b91aa07a300a-a87ff679a2f3e...</td>\n",
              "      <td>Andrea</td>\n",
              "      <td>person</td>\n",
              "      <td>semi-senior</td>\n",
              "      <td>female</td>\n",
              "      <td>27.0</td>\n",
              "      <td>3.0</td>\n",
              "    </tr>\n",
              "    <tr>\n",
              "      <th>23</th>\n",
              "      <td>8ebb5bf7f39a9ec7304a17cdf5063df9-a87ff679a2f3e...</td>\n",
              "      <td>Martin</td>\n",
              "      <td>person</td>\n",
              "      <td>senior</td>\n",
              "      <td>male</td>\n",
              "      <td>34.0</td>\n",
              "      <td>5.0</td>\n",
              "    </tr>\n",
              "  </tbody>\n",
              "</table>\n",
              "</div>"
            ],
            "text/plain": [
              "                                                 n.id  ... n.experience\n",
              "2   1ae7f988daa7541df8d9eba692e3949d-c81e728d9d4c2...  ...          3.0\n",
              "3   f496c7004f07dba853bf8fadc28c9650-c81e728d9d4c2...  ...         11.0\n",
              "4   e726642e86168eacfeee3fa8c4da012e-c81e728d9d4c2...  ...         16.0\n",
              "5   10c246e19e023f335e179b937c28a6da-c81e728d9d4c2...  ...          2.0\n",
              "6   bcb93d9680b08656367b3682a9b4c127-c81e728d9d4c2...  ...          3.0\n",
              "7   f9fdac801645d8b673ce785f01658a1e-c81e728d9d4c2...  ...          2.0\n",
              "8   822736b3fe21296f7d5c35a5e13d3ca3-c81e728d9d4c2...  ...          4.0\n",
              "9   a5b6fc8ad5a79c2b57af4137389a7b6b-c81e728d9d4c2...  ...         12.0\n",
              "18  79b60482d282d7fe48287ef484be2d31-a87ff679a2f3e...  ...          7.0\n",
              "19  6bb28c0af81044a5f2bf023eb7f253e2-a87ff679a2f3e...  ...          6.0\n",
              "20  51280652ee54bf9e25636110b859faf5-a87ff679a2f3e...  ...          4.0\n",
              "21  f6b8790fd8dcb51f4ccec2e19f6db824-a87ff679a2f3e...  ...          3.0\n",
              "22  533348a1f755b9512eb8b91aa07a300a-a87ff679a2f3e...  ...          3.0\n",
              "23  8ebb5bf7f39a9ec7304a17cdf5063df9-a87ff679a2f3e...  ...          5.0\n",
              "\n",
              "[14 rows x 7 columns]"
            ]
          },
          "metadata": {
            "tags": []
          },
          "execution_count": 28
        }
      ]
    },
    {
      "cell_type": "code",
      "metadata": {
        "id": "z_WfJKwrRPj6",
        "colab_type": "code",
        "colab": {
          "base_uri": "https://localhost:8080/",
          "height": 296
        },
        "outputId": "b05755ce-2866-412a-a62d-a8af5ae34c3f"
      },
      "source": [
        "seaborn.countplot(\n",
        "    data=datanod,\n",
        "    x='n.gender'\n",
        "    )"
      ],
      "execution_count": null,
      "outputs": [
        {
          "output_type": "execute_result",
          "data": {
            "text/plain": [
              "<matplotlib.axes._subplots.AxesSubplot at 0x7fe68ad13c88>"
            ]
          },
          "metadata": {
            "tags": []
          },
          "execution_count": 29
        },
        {
          "output_type": "display_data",
          "data": {
            "image/png": "[encoded data removed]",
            "text/plain": [
              "<Figure size 432x288 with 1 Axes>"
            ]
          },
          "metadata": {
            "tags": [],
            "needs_background": "light"
          }
        }
      ]
    },
    {
      "cell_type": "code",
      "metadata": {
        "id": "5viQLt9-Tc1v",
        "colab_type": "code",
        "colab": {
          "base_uri": "https://localhost:8080/",
          "height": 296
        },
        "outputId": "3a246307-ed9a-46ea-d9c1-cd947a790d28"
      },
      "source": [
        "seaborn.countplot(\n",
        "    data=datanod[datanod['n.type']=='person'], \n",
        "    x='n.age'\n",
        "    )"
      ],
      "execution_count": null,
      "outputs": [
        {
          "output_type": "execute_result",
          "data": {
            "text/plain": [
              "<matplotlib.axes._subplots.AxesSubplot at 0x7fe68ad135c0>"
            ]
          },
          "metadata": {
            "tags": []
          },
          "execution_count": 30
        },
        {
          "output_type": "display_data",
          "data": {
            "image/png": "[encoded data removed]",
            "text/plain": [
              "<Figure size 432x288 with 1 Axes>"
            ]
          },
          "metadata": {
            "tags": [],
            "needs_background": "light"
          }
        }
      ]
    },
    {
      "cell_type": "code",
      "metadata": {
        "id": "1MT1PaoSTZgd",
        "colab_type": "code",
        "colab": {
          "base_uri": "https://localhost:8080/",
          "height": 296
        },
        "outputId": "ee22fa4c-8ac6-4f20-be37-aee2404f8d83"
      },
      "source": [
        "seaborn.countplot(\n",
        "    data=datanod, \n",
        "    x='n.category'\n",
        "    )"
      ],
      "execution_count": null,
      "outputs": [
        {
          "output_type": "execute_result",
          "data": {
            "text/plain": [
              "<matplotlib.axes._subplots.AxesSubplot at 0x7fe68a4aa978>"
            ]
          },
          "metadata": {
            "tags": []
          },
          "execution_count": 31
        },
        {
          "output_type": "display_data",
          "data": {
            "image/png": "[encoded data removed]",
            "text/plain": [
              "<Figure size 432x288 with 1 Axes>"
            ]
          },
          "metadata": {
            "tags": [],
            "needs_background": "light"
          }
        }
      ]
    },
    {
      "cell_type": "code",
      "metadata": {
        "id": "yqt8TMTdRMlp",
        "colab_type": "code",
        "colab": {
          "base_uri": "https://localhost:8080/",
          "height": 296
        },
        "outputId": "afed1042-69b0-48ec-ef0a-c4a93e562586"
      },
      "source": [
        "seaborn.countplot(\n",
        "    data=datanod, \n",
        "    x='n.experience'\n",
        "    )"
      ],
      "execution_count": null,
      "outputs": [
        {
          "output_type": "execute_result",
          "data": {
            "text/plain": [
              "<matplotlib.axes._subplots.AxesSubplot at 0x7fe68a4aaba8>"
            ]
          },
          "metadata": {
            "tags": []
          },
          "execution_count": 32
        },
        {
          "output_type": "display_data",
          "data": {
            "image/png": "[encoded data removed]",
            "text/plain": [
              "<Figure size 432x288 with 1 Axes>"
            ]
          },
          "metadata": {
            "tags": [],
            "needs_background": "light"
          }
        }
      ]
    },
    {
      "cell_type": "code",
      "metadata": {
        "id": "UW63axFWTgGQ",
        "colab_type": "code",
        "colab": {
          "base_uri": "https://localhost:8080/",
          "height": 296
        },
        "outputId": "2aa53642-71d1-4177-bc45-36b82886b345"
      },
      "source": [
        "sns.scatterplot(x=\"n.age\", y=\"n.experience\", data=datanod[datanod['n.type']=='person'])"
      ],
      "execution_count": null,
      "outputs": [
        {
          "output_type": "execute_result",
          "data": {
            "text/plain": [
              "<matplotlib.axes._subplots.AxesSubplot at 0x7fe68a3ffc18>"
            ]
          },
          "metadata": {
            "tags": []
          },
          "execution_count": 33
        },
        {
          "output_type": "display_data",
          "data": {
            "image/png": "[encoded data removed]",
            "text/plain": [
              "<Figure size 432x288 with 1 Axes>"
            ]
          },
          "metadata": {
            "tags": [],
            "needs_background": "light"
          }
        }
      ]
    },
    {
      "cell_type": "code",
      "metadata": {
        "id": "_Pk7tbBdUBvq",
        "colab_type": "code",
        "colab": {
          "base_uri": "https://localhost:8080/",
          "height": 296
        },
        "outputId": "d6f15dff-1a76-445c-e669-dd9d3d337d6e"
      },
      "source": [
        "sns.regplot(\n",
        "    x=\"n.age\",\n",
        "    y=\"n.experience\", \n",
        "    data=datanod[datanod['n.type']=='person']\n",
        "    )"
      ],
      "execution_count": null,
      "outputs": [
        {
          "output_type": "execute_result",
          "data": {
            "text/plain": [
              "<matplotlib.axes._subplots.AxesSubplot at 0x7fe687b71240>"
            ]
          },
          "metadata": {
            "tags": []
          },
          "execution_count": 34
        },
        {
          "output_type": "display_data",
          "data": {
            "image/png": "[encoded data removed]",
            "text/plain": [
              "<Figure size 432x288 with 1 Axes>"
            ]
          },
          "metadata": {
            "tags": [],
            "needs_background": "light"
          }
        }
      ]
    },
    {
      "cell_type": "code",
      "metadata": {
        "id": "vTfn2MTUUL4Q",
        "colab_type": "code",
        "colab": {
          "base_uri": "https://localhost:8080/",
          "height": 34
        },
        "outputId": "de89748e-d805-4255-e251-ee4cec6d2094"
      },
      "source": [
        "stats.pearsonr(\n",
        "    datanod[datanod['n.type']=='person']['n.age'],\n",
        "    datanod[datanod['n.type']=='person']['n.experience']\n",
        "    )"
      ],
      "execution_count": null,
      "outputs": [
        {
          "output_type": "execute_result",
          "data": {
            "text/plain": [
              "(0.887137216723616, 2.3300949132873503e-05)"
            ]
          },
          "metadata": {
            "tags": []
          },
          "execution_count": 35
        }
      ]
    },
    {
      "cell_type": "code",
      "metadata": {
        "id": "At6-45aEV9iB",
        "colab_type": "code",
        "colab": {
          "base_uri": "https://localhost:8080/",
          "height": 111
        },
        "outputId": "f5eeb994-0057-4841-f722-ff10f5c9b71e"
      },
      "source": [
        "datanod[datanod['n.type']=='person'][['n.age',  'n.experience']].corr(method=\"pearson\")"
      ],
      "execution_count": null,
      "outputs": [
        {
          "output_type": "execute_result",
          "data": {
            "text/html": [
              "<div>\n",
              "<style scoped>\n",
              "    .dataframe tbody tr th:only-of-type {\n",
              "        vertical-align: middle;\n",
              "    }\n",
              "\n",
              "    .dataframe tbody tr th {\n",
              "        vertical-align: top;\n",
              "    }\n",
              "\n",
              "    .dataframe thead th {\n",
              "        text-align: right;\n",
              "    }\n",
              "</style>\n",
              "<table border=\"1\" class=\"dataframe\">\n",
              "  <thead>\n",
              "    <tr style=\"text-align: right;\">\n",
              "      <th></th>\n",
              "      <th>n.age</th>\n",
              "      <th>n.experience</th>\n",
              "    </tr>\n",
              "  </thead>\n",
              "  <tbody>\n",
              "    <tr>\n",
              "      <th>n.age</th>\n",
              "      <td>1.000000</td>\n",
              "      <td>0.887137</td>\n",
              "    </tr>\n",
              "    <tr>\n",
              "      <th>n.experience</th>\n",
              "      <td>0.887137</td>\n",
              "      <td>1.000000</td>\n",
              "    </tr>\n",
              "  </tbody>\n",
              "</table>\n",
              "</div>"
            ],
            "text/plain": [
              "                 n.age  n.experience\n",
              "n.age         1.000000      0.887137\n",
              "n.experience  0.887137      1.000000"
            ]
          },
          "metadata": {
            "tags": []
          },
          "execution_count": 41
        }
      ]
    },
    {
      "cell_type": "code",
      "metadata": {
        "id": "kbq9cyMjUbJi",
        "colab_type": "code",
        "colab": {
          "base_uri": "https://localhost:8080/",
          "height": 110
        },
        "outputId": "ea33f9bc-0e45-4211-edb8-d9f1e2f3778a"
      },
      "source": [
        "datanod[datanod['n.type']=='person'][['n.age',  'n.experience']].corr(method=\"kendall\")"
      ],
      "execution_count": null,
      "outputs": [
        {
          "output_type": "execute_result",
          "data": {
            "text/html": [
              "<div>\n",
              "<style scoped>\n",
              "    .dataframe tbody tr th:only-of-type {\n",
              "        vertical-align: middle;\n",
              "    }\n",
              "\n",
              "    .dataframe tbody tr th {\n",
              "        vertical-align: top;\n",
              "    }\n",
              "\n",
              "    .dataframe thead th {\n",
              "        text-align: right;\n",
              "    }\n",
              "</style>\n",
              "<table border=\"1\" class=\"dataframe\">\n",
              "  <thead>\n",
              "    <tr style=\"text-align: right;\">\n",
              "      <th></th>\n",
              "      <th>n.age</th>\n",
              "      <th>n.experience</th>\n",
              "    </tr>\n",
              "  </thead>\n",
              "  <tbody>\n",
              "    <tr>\n",
              "      <th>n.age</th>\n",
              "      <td>1.000000</td>\n",
              "      <td>0.713755</td>\n",
              "    </tr>\n",
              "    <tr>\n",
              "      <th>n.experience</th>\n",
              "      <td>0.713755</td>\n",
              "      <td>1.000000</td>\n",
              "    </tr>\n",
              "  </tbody>\n",
              "</table>\n",
              "</div>"
            ],
            "text/plain": [
              "                 n.age  n.experience\n",
              "n.age         1.000000      0.713755\n",
              "n.experience  0.713755      1.000000"
            ]
          },
          "metadata": {
            "tags": []
          },
          "execution_count": 36
        }
      ]
    },
    {
      "cell_type": "markdown",
      "metadata": {
        "id": "AQmhRemrW0NF",
        "colab_type": "text"
      },
      "source": [
        "Tecnologias"
      ]
    },
    {
      "cell_type": "code",
      "metadata": {
        "id": "JWz_WA-DVy-3",
        "colab_type": "code",
        "colab": {
          "base_uri": "https://localhost:8080/",
          "height": 52
        },
        "outputId": "aabf50f6-27d3-494e-dc53-e7b56d03d9d2"
      },
      "source": [
        "datanod['n.type'].unique()"
      ],
      "execution_count": null,
      "outputs": [
        {
          "output_type": "execute_result",
          "data": {
            "text/plain": [
              "array(['team', 'person', nan, 'technologies', 'skill', 'info'],\n",
              "      dtype=object)"
            ]
          },
          "metadata": {
            "tags": []
          },
          "execution_count": 37
        }
      ]
    },
    {
      "cell_type": "code",
      "metadata": {
        "id": "gX8T84mGWtHb",
        "colab_type": "code",
        "colab": {
          "base_uri": "https://localhost:8080/",
          "height": 416
        },
        "outputId": "9c90f80f-18fa-4b32-cf82-184e8b7f7550"
      },
      "source": [
        "datanod[datanod['n.type']=='technologies']"
      ],
      "execution_count": null,
      "outputs": [
        {
          "output_type": "execute_result",
          "data": {
            "text/html": [
              "<div>\n",
              "<style scoped>\n",
              "    .dataframe tbody tr th:only-of-type {\n",
              "        vertical-align: middle;\n",
              "    }\n",
              "\n",
              "    .dataframe tbody tr th {\n",
              "        vertical-align: top;\n",
              "    }\n",
              "\n",
              "    .dataframe thead th {\n",
              "        text-align: right;\n",
              "    }\n",
              "</style>\n",
              "<table border=\"1\" class=\"dataframe\">\n",
              "  <thead>\n",
              "    <tr style=\"text-align: right;\">\n",
              "      <th></th>\n",
              "      <th>n.id</th>\n",
              "      <th>name_node_a</th>\n",
              "      <th>n.type</th>\n",
              "      <th>n.category</th>\n",
              "      <th>n.gender</th>\n",
              "      <th>n.age</th>\n",
              "      <th>n.experience</th>\n",
              "    </tr>\n",
              "  </thead>\n",
              "  <tbody>\n",
              "    <tr>\n",
              "      <th>11</th>\n",
              "      <td>ff64319904f4832ee19df96250276033-c81e728d9d4c2...</td>\n",
              "      <td>Inst DB</td>\n",
              "      <td>technologies</td>\n",
              "      <td>NaN</td>\n",
              "      <td>NaN</td>\n",
              "      <td>NaN</td>\n",
              "      <td>NaN</td>\n",
              "    </tr>\n",
              "    <tr>\n",
              "      <th>12</th>\n",
              "      <td>17fc99d3f691680db18b948f4b9a4547-a87ff679a2f3e...</td>\n",
              "      <td>AWS Lambda</td>\n",
              "      <td>technologies</td>\n",
              "      <td>NaN</td>\n",
              "      <td>NaN</td>\n",
              "      <td>NaN</td>\n",
              "      <td>NaN</td>\n",
              "    </tr>\n",
              "    <tr>\n",
              "      <th>13</th>\n",
              "      <td>31985bb925fa449ee8d01350cb2f008d-a87ff679a2f3e...</td>\n",
              "      <td>AWS Kinesis</td>\n",
              "      <td>technologies</td>\n",
              "      <td>NaN</td>\n",
              "      <td>NaN</td>\n",
              "      <td>NaN</td>\n",
              "      <td>NaN</td>\n",
              "    </tr>\n",
              "    <tr>\n",
              "      <th>14</th>\n",
              "      <td>e75155594a0fd8405cde512bd9aaedad-a87ff679a2f3e...</td>\n",
              "      <td>DynamoDB</td>\n",
              "      <td>technologies</td>\n",
              "      <td>NaN</td>\n",
              "      <td>NaN</td>\n",
              "      <td>NaN</td>\n",
              "      <td>NaN</td>\n",
              "    </tr>\n",
              "    <tr>\n",
              "      <th>15</th>\n",
              "      <td>c75df195acce9063a96459de85bc72b9-a87ff679a2f3e...</td>\n",
              "      <td>Monta un Cluster Hadoop Big Data desde Cero</td>\n",
              "      <td>technologies</td>\n",
              "      <td>NaN</td>\n",
              "      <td>NaN</td>\n",
              "      <td>NaN</td>\n",
              "      <td>NaN</td>\n",
              "    </tr>\n",
              "    <tr>\n",
              "      <th>...</th>\n",
              "      <td>...</td>\n",
              "      <td>...</td>\n",
              "      <td>...</td>\n",
              "      <td>...</td>\n",
              "      <td>...</td>\n",
              "      <td>...</td>\n",
              "      <td>...</td>\n",
              "    </tr>\n",
              "    <tr>\n",
              "      <th>87</th>\n",
              "      <td>ffeffd6344800bfc7214b6d7ef83ea10-a87ff679a2f3e...</td>\n",
              "      <td>talend</td>\n",
              "      <td>technologies</td>\n",
              "      <td>NaN</td>\n",
              "      <td>NaN</td>\n",
              "      <td>NaN</td>\n",
              "      <td>NaN</td>\n",
              "    </tr>\n",
              "    <tr>\n",
              "      <th>88</th>\n",
              "      <td>362da8a51e150638e6981d0771534c8e-a87ff679a2f3e...</td>\n",
              "      <td>pentaho</td>\n",
              "      <td>technologies</td>\n",
              "      <td>NaN</td>\n",
              "      <td>NaN</td>\n",
              "      <td>NaN</td>\n",
              "      <td>NaN</td>\n",
              "    </tr>\n",
              "    <tr>\n",
              "      <th>89</th>\n",
              "      <td>263db3933c2cb8e9b139373fdd57defb-a87ff679a2f3e...</td>\n",
              "      <td>Integracion</td>\n",
              "      <td>technologies</td>\n",
              "      <td>NaN</td>\n",
              "      <td>NaN</td>\n",
              "      <td>NaN</td>\n",
              "      <td>NaN</td>\n",
              "    </tr>\n",
              "    <tr>\n",
              "      <th>90</th>\n",
              "      <td>de1284aa9ed99ad37c8259c2028b161c-a87ff679a2f3e...</td>\n",
              "      <td>ODI</td>\n",
              "      <td>technologies</td>\n",
              "      <td>NaN</td>\n",
              "      <td>NaN</td>\n",
              "      <td>NaN</td>\n",
              "      <td>NaN</td>\n",
              "    </tr>\n",
              "    <tr>\n",
              "      <th>91</th>\n",
              "      <td>bb906c05289c29654b54a94ced2e697c-a87ff679a2f3e...</td>\n",
              "      <td>Lenguajes</td>\n",
              "      <td>technologies</td>\n",
              "      <td>NaN</td>\n",
              "      <td>NaN</td>\n",
              "      <td>NaN</td>\n",
              "      <td>NaN</td>\n",
              "    </tr>\n",
              "  </tbody>\n",
              "</table>\n",
              "<p>67 rows × 7 columns</p>\n",
              "</div>"
            ],
            "text/plain": [
              "                                                 n.id  ... n.experience\n",
              "11  ff64319904f4832ee19df96250276033-c81e728d9d4c2...  ...          NaN\n",
              "12  17fc99d3f691680db18b948f4b9a4547-a87ff679a2f3e...  ...          NaN\n",
              "13  31985bb925fa449ee8d01350cb2f008d-a87ff679a2f3e...  ...          NaN\n",
              "14  e75155594a0fd8405cde512bd9aaedad-a87ff679a2f3e...  ...          NaN\n",
              "15  c75df195acce9063a96459de85bc72b9-a87ff679a2f3e...  ...          NaN\n",
              "..                                                ...  ...          ...\n",
              "87  ffeffd6344800bfc7214b6d7ef83ea10-a87ff679a2f3e...  ...          NaN\n",
              "88  362da8a51e150638e6981d0771534c8e-a87ff679a2f3e...  ...          NaN\n",
              "89  263db3933c2cb8e9b139373fdd57defb-a87ff679a2f3e...  ...          NaN\n",
              "90  de1284aa9ed99ad37c8259c2028b161c-a87ff679a2f3e...  ...          NaN\n",
              "91  bb906c05289c29654b54a94ced2e697c-a87ff679a2f3e...  ...          NaN\n",
              "\n",
              "[67 rows x 7 columns]"
            ]
          },
          "metadata": {
            "tags": []
          },
          "execution_count": 38
        }
      ]
    },
    {
      "cell_type": "code",
      "metadata": {
        "id": "e_R-1uPvXTI5",
        "colab_type": "code",
        "colab": {}
      },
      "source": [
        "techs = datanod[datanod['n.type']=='technologies']['name_node_a'].unique()"
      ],
      "execution_count": 97,
      "outputs": []
    },
    {
      "cell_type": "code",
      "metadata": {
        "id": "3UKDhxkrXenX",
        "colab_type": "code",
        "colab": {
          "base_uri": "https://localhost:8080/",
          "height": 34
        },
        "outputId": "022df563-2795-40f3-f31d-f282a04c413d"
      },
      "source": [
        "datanod[datanod['n.type']=='technologies']['name_node_a'].count()"
      ],
      "execution_count": null,
      "outputs": [
        {
          "output_type": "execute_result",
          "data": {
            "text/plain": [
              "67"
            ]
          },
          "metadata": {
            "tags": []
          },
          "execution_count": 40
        }
      ]
    },
    {
      "cell_type": "code",
      "metadata": {
        "id": "RRypidhFXkFI",
        "colab_type": "code",
        "colab": {
          "base_uri": "https://localhost:8080/",
          "height": 104
        },
        "outputId": "c9a8d4ea-a58d-4960-d333-46ee36289b24"
      },
      "source": [
        "datarel['name_node_a'].describe()"
      ],
      "execution_count": null,
      "outputs": [
        {
          "output_type": "execute_result",
          "data": {
            "text/plain": [
              "count        197\n",
              "unique        64\n",
              "top       Daniel\n",
              "freq          15\n",
              "Name: name_node_a, dtype: object"
            ]
          },
          "metadata": {
            "tags": []
          },
          "execution_count": 42
        }
      ]
    },
    {
      "cell_type": "code",
      "metadata": {
        "id": "1lseGFIwZLIY",
        "colab_type": "code",
        "colab": {
          "base_uri": "https://localhost:8080/",
          "height": 104
        },
        "outputId": "e21554b3-ac5a-4481-9f00-0c04d8339f7d"
      },
      "source": [
        "datarel['name_node_b'].describe()"
      ],
      "execution_count": null,
      "outputs": [
        {
          "output_type": "execute_result",
          "data": {
            "text/plain": [
              "count            197\n",
              "unique            69\n",
              "top       SQL Server\n",
              "freq              12\n",
              "Name: name_node_b, dtype: object"
            ]
          },
          "metadata": {
            "tags": []
          },
          "execution_count": 43
        }
      ]
    },
    {
      "cell_type": "code",
      "metadata": {
        "id": "6jBkTV2GacaL",
        "colab_type": "code",
        "colab": {
          "base_uri": "https://localhost:8080/",
          "height": 307
        },
        "outputId": "2f95f19c-c997-4b5a-f7a6-534526e3b655"
      },
      "source": [
        "pd.concat(datanod, datarel)"
      ],
      "execution_count": null,
      "outputs": [
        {
          "output_type": "error",
          "ename": "TypeError",
          "evalue": "ignored",
          "traceback": [
            "\u001b[0;31m---------------------------------------------------------------------------\u001b[0m",
            "\u001b[0;31mTypeError\u001b[0m                                 Traceback (most recent call last)",
            "\u001b[0;32m<ipython-input-62-222932cfd0bc>\u001b[0m in \u001b[0;36m<module>\u001b[0;34m()\u001b[0m\n\u001b[0;32m----> 1\u001b[0;31m \u001b[0mpd\u001b[0m\u001b[0;34m.\u001b[0m\u001b[0mconcat\u001b[0m\u001b[0;34m(\u001b[0m\u001b[0mdatanod\u001b[0m\u001b[0;34m,\u001b[0m \u001b[0mdatarel\u001b[0m\u001b[0;34m)\u001b[0m\u001b[0;34m\u001b[0m\u001b[0;34m\u001b[0m\u001b[0m\n\u001b[0m",
            "\u001b[0;32m/usr/local/lib/python3.6/dist-packages/pandas/core/reshape/concat.py\u001b[0m in \u001b[0;36mconcat\u001b[0;34m(objs, axis, join, ignore_index, keys, levels, names, verify_integrity, sort, copy)\u001b[0m\n\u001b[1;32m    279\u001b[0m         \u001b[0mverify_integrity\u001b[0m\u001b[0;34m=\u001b[0m\u001b[0mverify_integrity\u001b[0m\u001b[0;34m,\u001b[0m\u001b[0;34m\u001b[0m\u001b[0;34m\u001b[0m\u001b[0m\n\u001b[1;32m    280\u001b[0m         \u001b[0mcopy\u001b[0m\u001b[0;34m=\u001b[0m\u001b[0mcopy\u001b[0m\u001b[0;34m,\u001b[0m\u001b[0;34m\u001b[0m\u001b[0;34m\u001b[0m\u001b[0m\n\u001b[0;32m--> 281\u001b[0;31m         \u001b[0msort\u001b[0m\u001b[0;34m=\u001b[0m\u001b[0msort\u001b[0m\u001b[0;34m,\u001b[0m\u001b[0;34m\u001b[0m\u001b[0;34m\u001b[0m\u001b[0m\n\u001b[0m\u001b[1;32m    282\u001b[0m     )\n\u001b[1;32m    283\u001b[0m \u001b[0;34m\u001b[0m\u001b[0m\n",
            "\u001b[0;32m/usr/local/lib/python3.6/dist-packages/pandas/core/reshape/concat.py\u001b[0m in \u001b[0;36m__init__\u001b[0;34m(self, objs, axis, join, keys, levels, names, ignore_index, verify_integrity, copy, sort)\u001b[0m\n\u001b[1;32m    307\u001b[0m                 \u001b[0;34m\"first argument must be an iterable of pandas \"\u001b[0m\u001b[0;34m\u001b[0m\u001b[0;34m\u001b[0m\u001b[0m\n\u001b[1;32m    308\u001b[0m                 \u001b[0;34m\"objects, you passed an object of type \"\u001b[0m\u001b[0;34m\u001b[0m\u001b[0;34m\u001b[0m\u001b[0m\n\u001b[0;32m--> 309\u001b[0;31m                 \u001b[0;34m'\"{name}\"'\u001b[0m\u001b[0;34m.\u001b[0m\u001b[0mformat\u001b[0m\u001b[0;34m(\u001b[0m\u001b[0mname\u001b[0m\u001b[0;34m=\u001b[0m\u001b[0mtype\u001b[0m\u001b[0;34m(\u001b[0m\u001b[0mobjs\u001b[0m\u001b[0;34m)\u001b[0m\u001b[0;34m.\u001b[0m\u001b[0m__name__\u001b[0m\u001b[0;34m)\u001b[0m\u001b[0;34m\u001b[0m\u001b[0;34m\u001b[0m\u001b[0m\n\u001b[0m\u001b[1;32m    310\u001b[0m             )\n\u001b[1;32m    311\u001b[0m \u001b[0;34m\u001b[0m\u001b[0m\n",
            "\u001b[0;31mTypeError\u001b[0m: first argument must be an iterable of pandas objects, you passed an object of type \"DataFrame\""
          ]
        }
      ]
    },
    {
      "cell_type": "code",
      "metadata": {
        "id": "acBRwP9aakNF",
        "colab_type": "code",
        "colab": {}
      },
      "source": [
        "datarel['n.id'] = datarel['id_relationship']\n",
        "frames = [datanod, datarel]\n",
        "df = pd.concat(frames)"
      ],
      "execution_count": null,
      "outputs": []
    },
    {
      "cell_type": "code",
      "metadata": {
        "id": "Ixd8fqwYbBJN",
        "colab_type": "code",
        "colab": {
          "base_uri": "https://localhost:8080/",
          "height": 609
        },
        "outputId": "b9d51d43-5075-43be-c16c-5ee5dce43160"
      },
      "source": [
        "df = df.groupby(by='n.id')\n",
        "df.head()"
      ],
      "execution_count": null,
      "outputs": [
        {
          "output_type": "execute_result",
          "data": {
            "text/html": [
              "<div>\n",
              "<style scoped>\n",
              "    .dataframe tbody tr th:only-of-type {\n",
              "        vertical-align: middle;\n",
              "    }\n",
              "\n",
              "    .dataframe tbody tr th {\n",
              "        vertical-align: top;\n",
              "    }\n",
              "\n",
              "    .dataframe thead th {\n",
              "        text-align: right;\n",
              "    }\n",
              "</style>\n",
              "<table border=\"1\" class=\"dataframe\">\n",
              "  <thead>\n",
              "    <tr style=\"text-align: right;\">\n",
              "      <th></th>\n",
              "      <th>n.id</th>\n",
              "      <th>name_node_a</th>\n",
              "      <th>n.type</th>\n",
              "      <th>n.category</th>\n",
              "      <th>n.gender</th>\n",
              "      <th>n.age</th>\n",
              "      <th>n.experience</th>\n",
              "      <th>id_node_a</th>\n",
              "      <th>id_node_b</th>\n",
              "      <th>name_node_b</th>\n",
              "      <th>id_relationship</th>\n",
              "    </tr>\n",
              "  </thead>\n",
              "  <tbody>\n",
              "    <tr>\n",
              "      <th>0</th>\n",
              "      <td>eeca1815ef2efc089f12bfe8c1c4c7f7-c81e728d9d4c2...</td>\n",
              "      <td>Team3</td>\n",
              "      <td>team</td>\n",
              "      <td>NaN</td>\n",
              "      <td>NaN</td>\n",
              "      <td>0.0</td>\n",
              "      <td>NaN</td>\n",
              "      <td>NaN</td>\n",
              "      <td>NaN</td>\n",
              "      <td>NaN</td>\n",
              "      <td>NaN</td>\n",
              "    </tr>\n",
              "    <tr>\n",
              "      <th>1</th>\n",
              "      <td>73cceb4a6d1f1fd7e91d38c2b906be15-c81e728d9d4c2...</td>\n",
              "      <td>Team2</td>\n",
              "      <td>team</td>\n",
              "      <td>NaN</td>\n",
              "      <td>NaN</td>\n",
              "      <td>0.0</td>\n",
              "      <td>NaN</td>\n",
              "      <td>NaN</td>\n",
              "      <td>NaN</td>\n",
              "      <td>NaN</td>\n",
              "      <td>NaN</td>\n",
              "    </tr>\n",
              "    <tr>\n",
              "      <th>2</th>\n",
              "      <td>1ae7f988daa7541df8d9eba692e3949d-c81e728d9d4c2...</td>\n",
              "      <td>Marcela</td>\n",
              "      <td>person</td>\n",
              "      <td>junior</td>\n",
              "      <td>female</td>\n",
              "      <td>23.0</td>\n",
              "      <td>3.0</td>\n",
              "      <td>NaN</td>\n",
              "      <td>NaN</td>\n",
              "      <td>NaN</td>\n",
              "      <td>NaN</td>\n",
              "    </tr>\n",
              "    <tr>\n",
              "      <th>3</th>\n",
              "      <td>f496c7004f07dba853bf8fadc28c9650-c81e728d9d4c2...</td>\n",
              "      <td>Daniel</td>\n",
              "      <td>person</td>\n",
              "      <td>senior</td>\n",
              "      <td>male</td>\n",
              "      <td>44.0</td>\n",
              "      <td>11.0</td>\n",
              "      <td>NaN</td>\n",
              "      <td>NaN</td>\n",
              "      <td>NaN</td>\n",
              "      <td>NaN</td>\n",
              "    </tr>\n",
              "    <tr>\n",
              "      <th>4</th>\n",
              "      <td>e726642e86168eacfeee3fa8c4da012e-c81e728d9d4c2...</td>\n",
              "      <td>Leonardo</td>\n",
              "      <td>person</td>\n",
              "      <td>senior</td>\n",
              "      <td>male</td>\n",
              "      <td>45.0</td>\n",
              "      <td>16.0</td>\n",
              "      <td>NaN</td>\n",
              "      <td>NaN</td>\n",
              "      <td>NaN</td>\n",
              "      <td>NaN</td>\n",
              "    </tr>\n",
              "    <tr>\n",
              "      <th>...</th>\n",
              "      <td>...</td>\n",
              "      <td>...</td>\n",
              "      <td>...</td>\n",
              "      <td>...</td>\n",
              "      <td>...</td>\n",
              "      <td>...</td>\n",
              "      <td>...</td>\n",
              "      <td>...</td>\n",
              "      <td>...</td>\n",
              "      <td>...</td>\n",
              "      <td>...</td>\n",
              "    </tr>\n",
              "    <tr>\n",
              "      <th>192</th>\n",
              "      <td>23b09d4501f7ed772b6a271ef83fa6cd-a87ff679a2f3e...</td>\n",
              "      <td>Lenguajes</td>\n",
              "      <td>NaN</td>\n",
              "      <td>NaN</td>\n",
              "      <td>NaN</td>\n",
              "      <td>NaN</td>\n",
              "      <td>NaN</td>\n",
              "      <td>bb906c05289c29654b54a94ced2e697c-a87ff679a2f3e...</td>\n",
              "      <td>202a4729f08cfad5658fb7a6fb4ab47a-a87ff679a2f3e...</td>\n",
              "      <td>java</td>\n",
              "      <td>23b09d4501f7ed772b6a271ef83fa6cd-a87ff679a2f3e...</td>\n",
              "    </tr>\n",
              "    <tr>\n",
              "      <th>193</th>\n",
              "      <td>756b0fe5a35a3577770383391151f619-a87ff679a2f3e...</td>\n",
              "      <td>Lenguajes</td>\n",
              "      <td>NaN</td>\n",
              "      <td>NaN</td>\n",
              "      <td>NaN</td>\n",
              "      <td>NaN</td>\n",
              "      <td>NaN</td>\n",
              "      <td>bb906c05289c29654b54a94ced2e697c-a87ff679a2f3e...</td>\n",
              "      <td>1e242f2a98674de62d26b486d59b4c70-a87ff679a2f3e...</td>\n",
              "      <td>R</td>\n",
              "      <td>756b0fe5a35a3577770383391151f619-a87ff679a2f3e...</td>\n",
              "    </tr>\n",
              "    <tr>\n",
              "      <th>194</th>\n",
              "      <td>a3ed5515e9b9559c6da9633ed50c2782-a87ff679a2f3e...</td>\n",
              "      <td>Lenguajes</td>\n",
              "      <td>NaN</td>\n",
              "      <td>NaN</td>\n",
              "      <td>NaN</td>\n",
              "      <td>NaN</td>\n",
              "      <td>NaN</td>\n",
              "      <td>bb906c05289c29654b54a94ced2e697c-a87ff679a2f3e...</td>\n",
              "      <td>7f85fb3ca43d29a9100c4519e12f2fcd-a87ff679a2f3e...</td>\n",
              "      <td>scala</td>\n",
              "      <td>a3ed5515e9b9559c6da9633ed50c2782-a87ff679a2f3e...</td>\n",
              "    </tr>\n",
              "    <tr>\n",
              "      <th>195</th>\n",
              "      <td>61819fa8a677e16b4df47ce27b483661-a87ff679a2f3e...</td>\n",
              "      <td>Lenguajes</td>\n",
              "      <td>NaN</td>\n",
              "      <td>NaN</td>\n",
              "      <td>NaN</td>\n",
              "      <td>NaN</td>\n",
              "      <td>NaN</td>\n",
              "      <td>bb906c05289c29654b54a94ced2e697c-a87ff679a2f3e...</td>\n",
              "      <td>bbbe1fbd5a476cc46c35ea4b051c1a36-a87ff679a2f3e...</td>\n",
              "      <td>phyton</td>\n",
              "      <td>61819fa8a677e16b4df47ce27b483661-a87ff679a2f3e...</td>\n",
              "    </tr>\n",
              "    <tr>\n",
              "      <th>196</th>\n",
              "      <td>5d1dc767f6d5e87eac50c94495a07a9e-a87ff679a2f3e...</td>\n",
              "      <td>Lenguajes</td>\n",
              "      <td>NaN</td>\n",
              "      <td>NaN</td>\n",
              "      <td>NaN</td>\n",
              "      <td>NaN</td>\n",
              "      <td>NaN</td>\n",
              "      <td>bb906c05289c29654b54a94ced2e697c-a87ff679a2f3e...</td>\n",
              "      <td>a1e01b9df0dab2bfd6d9b32e10e397c8-a87ff679a2f3e...</td>\n",
              "      <td>Busqueda Skill</td>\n",
              "      <td>5d1dc767f6d5e87eac50c94495a07a9e-a87ff679a2f3e...</td>\n",
              "    </tr>\n",
              "  </tbody>\n",
              "</table>\n",
              "<p>289 rows × 11 columns</p>\n",
              "</div>"
            ],
            "text/plain": [
              "                                                  n.id  ...                                    id_relationship\n",
              "0    eeca1815ef2efc089f12bfe8c1c4c7f7-c81e728d9d4c2...  ...                                                NaN\n",
              "1    73cceb4a6d1f1fd7e91d38c2b906be15-c81e728d9d4c2...  ...                                                NaN\n",
              "2    1ae7f988daa7541df8d9eba692e3949d-c81e728d9d4c2...  ...                                                NaN\n",
              "3    f496c7004f07dba853bf8fadc28c9650-c81e728d9d4c2...  ...                                                NaN\n",
              "4    e726642e86168eacfeee3fa8c4da012e-c81e728d9d4c2...  ...                                                NaN\n",
              "..                                                 ...  ...                                                ...\n",
              "192  23b09d4501f7ed772b6a271ef83fa6cd-a87ff679a2f3e...  ...  23b09d4501f7ed772b6a271ef83fa6cd-a87ff679a2f3e...\n",
              "193  756b0fe5a35a3577770383391151f619-a87ff679a2f3e...  ...  756b0fe5a35a3577770383391151f619-a87ff679a2f3e...\n",
              "194  a3ed5515e9b9559c6da9633ed50c2782-a87ff679a2f3e...  ...  a3ed5515e9b9559c6da9633ed50c2782-a87ff679a2f3e...\n",
              "195  61819fa8a677e16b4df47ce27b483661-a87ff679a2f3e...  ...  61819fa8a677e16b4df47ce27b483661-a87ff679a2f3e...\n",
              "196  5d1dc767f6d5e87eac50c94495a07a9e-a87ff679a2f3e...  ...  5d1dc767f6d5e87eac50c94495a07a9e-a87ff679a2f3e...\n",
              "\n",
              "[289 rows x 11 columns]"
            ]
          },
          "metadata": {
            "tags": []
          },
          "execution_count": 78
        }
      ]
    },
    {
      "cell_type": "code",
      "metadata": {
        "id": "DoEvsejSbmfK",
        "colab_type": "code",
        "colab": {
          "base_uri": "https://localhost:8080/",
          "height": 242
        },
        "outputId": "a6297d57-d57a-4ec9-c69e-f904849556fe"
      },
      "source": [
        "datarel['name_node_b'].unique()"
      ],
      "execution_count": null,
      "outputs": [
        {
          "output_type": "execute_result",
          "data": {
            "text/plain": [
              "array(['Daniel', 'Marcela', 'Marcelo', 'Leonardo', 'Matias', 'Luciana',\n",
              "       'Lionel', 'Miguel', 'Developer', 'windows', 'Linux', 'MySQL',\n",
              "       'phyton', 'SQL Server', 'Technical Leader', 'Oracle Cloud',\n",
              "       'Google cloud', 'Oracle', 'PostgreSQL', 'unix', 'ODI', 'Docker',\n",
              "       'Hadoop', 'Spark', 'S3', 'EC2', 'java', 'Kubernetes', 'talend',\n",
              "       'pentaho', 'neo4j', 'DBA', 'Golden Gate', 'Vertica',\n",
              "       'Data Scientist', 'Data Architect', 'Data Engineer', 'cursos',\n",
              "       'SO', 'SQL', 'AWS Lambda', 'R', 'MariaDB', 'Redis', 'Azure',\n",
              "       'Jonatan', 'Lucas', 'Fernando', 'Gastón', 'Andrea', 'Martin',\n",
              "       'Contenedores', 'In-memory', 'Columnares', 'Graph db', 'NoSQL',\n",
              "       'Cloud Computing', 'Lenguajes', 'Documentales', 'AWS',\n",
              "       'Integracion', 'Busqueda Skill', 'Relacionales', 'AWS Kinesis',\n",
              "       'DynamoDB', 'Inst DB', 'ETL', 'PDI', 'scala'], dtype=object)"
            ]
          },
          "metadata": {
            "tags": []
          },
          "execution_count": 44
        }
      ]
    },
    {
      "cell_type": "code",
      "metadata": {
        "id": "ERXnrDcqg9on",
        "colab_type": "code",
        "colab": {}
      },
      "source": [
        ""
      ],
      "execution_count": null,
      "outputs": []
    },
    {
      "cell_type": "markdown",
      "metadata": {
        "id": "FV-deaL9dP7B",
        "colab_type": "text"
      },
      "source": [
        "Queremos que la nod a sean personas y la nod b sean technologies"
      ]
    },
    {
      "cell_type": "code",
      "metadata": {
        "id": "c5JHfiwWf4Y2",
        "colab_type": "code",
        "colab": {
          "base_uri": "https://localhost:8080/",
          "height": 68
        },
        "outputId": "47f0847b-35b4-4285-e20d-bb8832deb342"
      },
      "source": [
        "people = datanod[datanod['n.type']=='person']['name_node_a'].unique()\n",
        "people"
      ],
      "execution_count": 95,
      "outputs": [
        {
          "output_type": "execute_result",
          "data": {
            "text/plain": [
              "array(['Marcela', 'Daniel', 'Leonardo', 'Matias', 'Lionel', 'Miguel',\n",
              "       'Luciana', 'Marcelo', 'Jonatan', 'Lucas', 'Fernando', 'Gastón',\n",
              "       'Andrea', 'Martin'], dtype=object)"
            ]
          },
          "metadata": {
            "tags": []
          },
          "execution_count": 95
        }
      ]
    },
    {
      "cell_type": "code",
      "metadata": {
        "id": "5plGzZ4DhYpW",
        "colab_type": "code",
        "colab": {
          "base_uri": "https://localhost:8080/",
          "height": 238
        },
        "outputId": "da3e9d10-3717-4888-cfbe-56cb3d1a0eee"
      },
      "source": [
        "techs"
      ],
      "execution_count": 98,
      "outputs": [
        {
          "output_type": "execute_result",
          "data": {
            "text/plain": [
              "array(['Inst DB', 'AWS Lambda', 'AWS Kinesis', 'DynamoDB',\n",
              "       'Monta un Cluster Hadoop Big Data desde Cero', 'cursos', 'Linux',\n",
              "       'EC2', 'Kubernetes', 'Redis', 'HBase', 'neo4j', 'Graph db',\n",
              "       'Oracle Cloud', 'Huawei', 'Spark', 'Vertica', 'Cassandra', 'CQL',\n",
              "       'MongoDB', 'Athena', 'RDS', 'Glue', 'IAM', 'S3', 'EMR',\n",
              "       'Golden Gate', 'Cask', 'Azkaban', 'Luigi', 'Airflow', 'MS SSIS',\n",
              "       'SQL', 'unix', 'windows', 'SO', 'Contenedores', 'In-memory',\n",
              "       'NoSQL', 'Data warehouse', 'MariaDB', 'PDI', 'SQL Server', 'R',\n",
              "       'scala', 'java', 'phyton', 'Google cloud', 'Azure', 'AWS',\n",
              "       'Cloud Computing', 'Hadoop', 'Procesamiento', 'Docker',\n",
              "       'Bases de Datos', 'Oracle', 'PostgreSQL', 'Relacionales', 'MySQL',\n",
              "       'Documentales', 'Columnares', 'ETL', 'talend', 'pentaho',\n",
              "       'Integracion', 'ODI', 'Lenguajes'], dtype=object)"
            ]
          },
          "metadata": {
            "tags": []
          },
          "execution_count": 98
        }
      ]
    },
    {
      "cell_type": "code",
      "metadata": {
        "id": "Cc0Wksc1f50R",
        "colab_type": "code",
        "colab": {
          "base_uri": "https://localhost:8080/",
          "height": 589
        },
        "outputId": "b8052cc0-e6c4-40e8-c7fe-bf4a0537dc29"
      },
      "source": [
        "df1 = datarel[datarel['name_node_a'].isin(people)]\n",
        "df1"
      ],
      "execution_count": 104,
      "outputs": [
        {
          "output_type": "execute_result",
          "data": {
            "text/html": [
              "<div>\n",
              "<style scoped>\n",
              "    .dataframe tbody tr th:only-of-type {\n",
              "        vertical-align: middle;\n",
              "    }\n",
              "\n",
              "    .dataframe tbody tr th {\n",
              "        vertical-align: top;\n",
              "    }\n",
              "\n",
              "    .dataframe thead th {\n",
              "        text-align: right;\n",
              "    }\n",
              "</style>\n",
              "<table border=\"1\" class=\"dataframe\">\n",
              "  <thead>\n",
              "    <tr style=\"text-align: right;\">\n",
              "      <th></th>\n",
              "      <th>id_node_a</th>\n",
              "      <th>name_node_a</th>\n",
              "      <th>id_node_b</th>\n",
              "      <th>name_node_b</th>\n",
              "      <th>id_relationship</th>\n",
              "      <th>n.id</th>\n",
              "      <th>id</th>\n",
              "    </tr>\n",
              "  </thead>\n",
              "  <tbody>\n",
              "    <tr>\n",
              "      <th>8</th>\n",
              "      <td>1ae7f988daa7541df8d9eba692e3949d-c81e728d9d4c2...</td>\n",
              "      <td>Marcela</td>\n",
              "      <td>7d49add0d0c4fa941e927e85ad5226f2-a87ff679a2f3e...</td>\n",
              "      <td>Developer</td>\n",
              "      <td>97af5b9ea14515d4b93949b519586b9e-c81e728d9d4c2...</td>\n",
              "      <td>97af5b9ea14515d4b93949b519586b9e-c81e728d9d4c2...</td>\n",
              "      <td>97af5b9ea14515d4b93949b519586b9e-c81e728d9d4c2...</td>\n",
              "    </tr>\n",
              "    <tr>\n",
              "      <th>9</th>\n",
              "      <td>1ae7f988daa7541df8d9eba692e3949d-c81e728d9d4c2...</td>\n",
              "      <td>Marcela</td>\n",
              "      <td>342c8909ccc271dbb9d83e960fd04b00-a87ff679a2f3e...</td>\n",
              "      <td>windows</td>\n",
              "      <td>f5cb76e07e183a1c3fc6b354c2929395-c81e728d9d4c2...</td>\n",
              "      <td>f5cb76e07e183a1c3fc6b354c2929395-c81e728d9d4c2...</td>\n",
              "      <td>f5cb76e07e183a1c3fc6b354c2929395-c81e728d9d4c2...</td>\n",
              "    </tr>\n",
              "    <tr>\n",
              "      <th>10</th>\n",
              "      <td>1ae7f988daa7541df8d9eba692e3949d-c81e728d9d4c2...</td>\n",
              "      <td>Marcela</td>\n",
              "      <td>35c4798d0240368c638e55bae0d57ffa-a87ff679a2f3e...</td>\n",
              "      <td>Linux</td>\n",
              "      <td>6bfd7bf7a1d50d5a4c945ed0022279f1-c81e728d9d4c2...</td>\n",
              "      <td>6bfd7bf7a1d50d5a4c945ed0022279f1-c81e728d9d4c2...</td>\n",
              "      <td>6bfd7bf7a1d50d5a4c945ed0022279f1-c81e728d9d4c2...</td>\n",
              "    </tr>\n",
              "    <tr>\n",
              "      <th>11</th>\n",
              "      <td>1ae7f988daa7541df8d9eba692e3949d-c81e728d9d4c2...</td>\n",
              "      <td>Marcela</td>\n",
              "      <td>e9305b36f4ce5b64e3ffdde4cb4414df-a87ff679a2f3e...</td>\n",
              "      <td>MySQL</td>\n",
              "      <td>dc8f11843caef21e9c043e19873bb41b-c81e728d9d4c2...</td>\n",
              "      <td>dc8f11843caef21e9c043e19873bb41b-c81e728d9d4c2...</td>\n",
              "      <td>dc8f11843caef21e9c043e19873bb41b-c81e728d9d4c2...</td>\n",
              "    </tr>\n",
              "    <tr>\n",
              "      <th>12</th>\n",
              "      <td>1ae7f988daa7541df8d9eba692e3949d-c81e728d9d4c2...</td>\n",
              "      <td>Marcela</td>\n",
              "      <td>bbbe1fbd5a476cc46c35ea4b051c1a36-a87ff679a2f3e...</td>\n",
              "      <td>phyton</td>\n",
              "      <td>37689a914469ac3cbda1928c40a46992-c81e728d9d4c2...</td>\n",
              "      <td>37689a914469ac3cbda1928c40a46992-c81e728d9d4c2...</td>\n",
              "      <td>37689a914469ac3cbda1928c40a46992-c81e728d9d4c2...</td>\n",
              "    </tr>\n",
              "    <tr>\n",
              "      <th>...</th>\n",
              "      <td>...</td>\n",
              "      <td>...</td>\n",
              "      <td>...</td>\n",
              "      <td>...</td>\n",
              "      <td>...</td>\n",
              "      <td>...</td>\n",
              "      <td>...</td>\n",
              "    </tr>\n",
              "    <tr>\n",
              "      <th>118</th>\n",
              "      <td>8ebb5bf7f39a9ec7304a17cdf5063df9-a87ff679a2f3e...</td>\n",
              "      <td>Martin</td>\n",
              "      <td>6bde45527df4be8bbb24be561e65f751-a87ff679a2f3e...</td>\n",
              "      <td>Data Scientist</td>\n",
              "      <td>ab71f48b5ba1181da8e76118b28489ef-c81e728d9d4c2...</td>\n",
              "      <td>ab71f48b5ba1181da8e76118b28489ef-c81e728d9d4c2...</td>\n",
              "      <td>ab71f48b5ba1181da8e76118b28489ef-c81e728d9d4c2...</td>\n",
              "    </tr>\n",
              "    <tr>\n",
              "      <th>119</th>\n",
              "      <td>8ebb5bf7f39a9ec7304a17cdf5063df9-a87ff679a2f3e...</td>\n",
              "      <td>Martin</td>\n",
              "      <td>51ffd7144fcc4ddc688bf08869913f7f-a87ff679a2f3e...</td>\n",
              "      <td>Vertica</td>\n",
              "      <td>dbc92bf247537dbeb663cf99c545ae10-a87ff679a2f3e...</td>\n",
              "      <td>dbc92bf247537dbeb663cf99c545ae10-a87ff679a2f3e...</td>\n",
              "      <td>dbc92bf247537dbeb663cf99c545ae10-a87ff679a2f3e...</td>\n",
              "    </tr>\n",
              "    <tr>\n",
              "      <th>120</th>\n",
              "      <td>8ebb5bf7f39a9ec7304a17cdf5063df9-a87ff679a2f3e...</td>\n",
              "      <td>Martin</td>\n",
              "      <td>2320e632b8e006a33216f6b3a1c78578-a87ff679a2f3e...</td>\n",
              "      <td>SQL Server</td>\n",
              "      <td>f22351b7ee28abe1ce38de89cc37e301-a87ff679a2f3e...</td>\n",
              "      <td>f22351b7ee28abe1ce38de89cc37e301-a87ff679a2f3e...</td>\n",
              "      <td>f22351b7ee28abe1ce38de89cc37e301-a87ff679a2f3e...</td>\n",
              "    </tr>\n",
              "    <tr>\n",
              "      <th>121</th>\n",
              "      <td>8ebb5bf7f39a9ec7304a17cdf5063df9-a87ff679a2f3e...</td>\n",
              "      <td>Martin</td>\n",
              "      <td>bbbe1fbd5a476cc46c35ea4b051c1a36-a87ff679a2f3e...</td>\n",
              "      <td>phyton</td>\n",
              "      <td>18efebc43d1a0da0010e102c804f7e36-a87ff679a2f3e...</td>\n",
              "      <td>18efebc43d1a0da0010e102c804f7e36-a87ff679a2f3e...</td>\n",
              "      <td>18efebc43d1a0da0010e102c804f7e36-a87ff679a2f3e...</td>\n",
              "    </tr>\n",
              "    <tr>\n",
              "      <th>122</th>\n",
              "      <td>8ebb5bf7f39a9ec7304a17cdf5063df9-a87ff679a2f3e...</td>\n",
              "      <td>Martin</td>\n",
              "      <td>de1284aa9ed99ad37c8259c2028b161c-a87ff679a2f3e...</td>\n",
              "      <td>ODI</td>\n",
              "      <td>2e5a2a961bb7f5ef615b927a922c6983-a87ff679a2f3e...</td>\n",
              "      <td>2e5a2a961bb7f5ef615b927a922c6983-a87ff679a2f3e...</td>\n",
              "      <td>2e5a2a961bb7f5ef615b927a922c6983-a87ff679a2f3e...</td>\n",
              "    </tr>\n",
              "  </tbody>\n",
              "</table>\n",
              "<p>106 rows × 7 columns</p>\n",
              "</div>"
            ],
            "text/plain": [
              "                                             id_node_a  ...                                                 id\n",
              "8    1ae7f988daa7541df8d9eba692e3949d-c81e728d9d4c2...  ...  97af5b9ea14515d4b93949b519586b9e-c81e728d9d4c2...\n",
              "9    1ae7f988daa7541df8d9eba692e3949d-c81e728d9d4c2...  ...  f5cb76e07e183a1c3fc6b354c2929395-c81e728d9d4c2...\n",
              "10   1ae7f988daa7541df8d9eba692e3949d-c81e728d9d4c2...  ...  6bfd7bf7a1d50d5a4c945ed0022279f1-c81e728d9d4c2...\n",
              "11   1ae7f988daa7541df8d9eba692e3949d-c81e728d9d4c2...  ...  dc8f11843caef21e9c043e19873bb41b-c81e728d9d4c2...\n",
              "12   1ae7f988daa7541df8d9eba692e3949d-c81e728d9d4c2...  ...  37689a914469ac3cbda1928c40a46992-c81e728d9d4c2...\n",
              "..                                                 ...  ...                                                ...\n",
              "118  8ebb5bf7f39a9ec7304a17cdf5063df9-a87ff679a2f3e...  ...  ab71f48b5ba1181da8e76118b28489ef-c81e728d9d4c2...\n",
              "119  8ebb5bf7f39a9ec7304a17cdf5063df9-a87ff679a2f3e...  ...  dbc92bf247537dbeb663cf99c545ae10-a87ff679a2f3e...\n",
              "120  8ebb5bf7f39a9ec7304a17cdf5063df9-a87ff679a2f3e...  ...  f22351b7ee28abe1ce38de89cc37e301-a87ff679a2f3e...\n",
              "121  8ebb5bf7f39a9ec7304a17cdf5063df9-a87ff679a2f3e...  ...  18efebc43d1a0da0010e102c804f7e36-a87ff679a2f3e...\n",
              "122  8ebb5bf7f39a9ec7304a17cdf5063df9-a87ff679a2f3e...  ...  2e5a2a961bb7f5ef615b927a922c6983-a87ff679a2f3e...\n",
              "\n",
              "[106 rows x 7 columns]"
            ]
          },
          "metadata": {
            "tags": []
          },
          "execution_count": 104
        }
      ]
    },
    {
      "cell_type": "code",
      "metadata": {
        "id": "XEsO-ni-gZS7",
        "colab_type": "code",
        "colab": {
          "base_uri": "https://localhost:8080/",
          "height": 589
        },
        "outputId": "37d862db-45f1-4a0c-e4ae-e5ac7abe0cd8"
      },
      "source": [
        "df2= df1[df1['name_node_b'].isin(techs)]\n",
        "df2"
      ],
      "execution_count": 109,
      "outputs": [
        {
          "output_type": "execute_result",
          "data": {
            "text/html": [
              "<div>\n",
              "<style scoped>\n",
              "    .dataframe tbody tr th:only-of-type {\n",
              "        vertical-align: middle;\n",
              "    }\n",
              "\n",
              "    .dataframe tbody tr th {\n",
              "        vertical-align: top;\n",
              "    }\n",
              "\n",
              "    .dataframe thead th {\n",
              "        text-align: right;\n",
              "    }\n",
              "</style>\n",
              "<table border=\"1\" class=\"dataframe\">\n",
              "  <thead>\n",
              "    <tr style=\"text-align: right;\">\n",
              "      <th></th>\n",
              "      <th>id_node_a</th>\n",
              "      <th>name_node_a</th>\n",
              "      <th>id_node_b</th>\n",
              "      <th>name_node_b</th>\n",
              "      <th>id_relationship</th>\n",
              "      <th>n.id</th>\n",
              "      <th>id</th>\n",
              "    </tr>\n",
              "  </thead>\n",
              "  <tbody>\n",
              "    <tr>\n",
              "      <th>9</th>\n",
              "      <td>1ae7f988daa7541df8d9eba692e3949d-c81e728d9d4c2...</td>\n",
              "      <td>Marcela</td>\n",
              "      <td>342c8909ccc271dbb9d83e960fd04b00-a87ff679a2f3e...</td>\n",
              "      <td>windows</td>\n",
              "      <td>f5cb76e07e183a1c3fc6b354c2929395-c81e728d9d4c2...</td>\n",
              "      <td>f5cb76e07e183a1c3fc6b354c2929395-c81e728d9d4c2...</td>\n",
              "      <td>f5cb76e07e183a1c3fc6b354c2929395-c81e728d9d4c2...</td>\n",
              "    </tr>\n",
              "    <tr>\n",
              "      <th>10</th>\n",
              "      <td>1ae7f988daa7541df8d9eba692e3949d-c81e728d9d4c2...</td>\n",
              "      <td>Marcela</td>\n",
              "      <td>35c4798d0240368c638e55bae0d57ffa-a87ff679a2f3e...</td>\n",
              "      <td>Linux</td>\n",
              "      <td>6bfd7bf7a1d50d5a4c945ed0022279f1-c81e728d9d4c2...</td>\n",
              "      <td>6bfd7bf7a1d50d5a4c945ed0022279f1-c81e728d9d4c2...</td>\n",
              "      <td>6bfd7bf7a1d50d5a4c945ed0022279f1-c81e728d9d4c2...</td>\n",
              "    </tr>\n",
              "    <tr>\n",
              "      <th>11</th>\n",
              "      <td>1ae7f988daa7541df8d9eba692e3949d-c81e728d9d4c2...</td>\n",
              "      <td>Marcela</td>\n",
              "      <td>e9305b36f4ce5b64e3ffdde4cb4414df-a87ff679a2f3e...</td>\n",
              "      <td>MySQL</td>\n",
              "      <td>dc8f11843caef21e9c043e19873bb41b-c81e728d9d4c2...</td>\n",
              "      <td>dc8f11843caef21e9c043e19873bb41b-c81e728d9d4c2...</td>\n",
              "      <td>dc8f11843caef21e9c043e19873bb41b-c81e728d9d4c2...</td>\n",
              "    </tr>\n",
              "    <tr>\n",
              "      <th>12</th>\n",
              "      <td>1ae7f988daa7541df8d9eba692e3949d-c81e728d9d4c2...</td>\n",
              "      <td>Marcela</td>\n",
              "      <td>bbbe1fbd5a476cc46c35ea4b051c1a36-a87ff679a2f3e...</td>\n",
              "      <td>phyton</td>\n",
              "      <td>37689a914469ac3cbda1928c40a46992-c81e728d9d4c2...</td>\n",
              "      <td>37689a914469ac3cbda1928c40a46992-c81e728d9d4c2...</td>\n",
              "      <td>37689a914469ac3cbda1928c40a46992-c81e728d9d4c2...</td>\n",
              "    </tr>\n",
              "    <tr>\n",
              "      <th>13</th>\n",
              "      <td>1ae7f988daa7541df8d9eba692e3949d-c81e728d9d4c2...</td>\n",
              "      <td>Marcela</td>\n",
              "      <td>2320e632b8e006a33216f6b3a1c78578-a87ff679a2f3e...</td>\n",
              "      <td>SQL Server</td>\n",
              "      <td>b26bed07c37985affd5144308f6b3c00-c81e728d9d4c2...</td>\n",
              "      <td>b26bed07c37985affd5144308f6b3c00-c81e728d9d4c2...</td>\n",
              "      <td>b26bed07c37985affd5144308f6b3c00-c81e728d9d4c2...</td>\n",
              "    </tr>\n",
              "    <tr>\n",
              "      <th>...</th>\n",
              "      <td>...</td>\n",
              "      <td>...</td>\n",
              "      <td>...</td>\n",
              "      <td>...</td>\n",
              "      <td>...</td>\n",
              "      <td>...</td>\n",
              "      <td>...</td>\n",
              "    </tr>\n",
              "    <tr>\n",
              "      <th>116</th>\n",
              "      <td>533348a1f755b9512eb8b91aa07a300a-a87ff679a2f3e...</td>\n",
              "      <td>Andrea</td>\n",
              "      <td>362da8a51e150638e6981d0771534c8e-a87ff679a2f3e...</td>\n",
              "      <td>pentaho</td>\n",
              "      <td>f3c6dd6107873d16186aab31b4da9eba-c81e728d9d4c2...</td>\n",
              "      <td>f3c6dd6107873d16186aab31b4da9eba-c81e728d9d4c2...</td>\n",
              "      <td>f3c6dd6107873d16186aab31b4da9eba-c81e728d9d4c2...</td>\n",
              "    </tr>\n",
              "    <tr>\n",
              "      <th>119</th>\n",
              "      <td>8ebb5bf7f39a9ec7304a17cdf5063df9-a87ff679a2f3e...</td>\n",
              "      <td>Martin</td>\n",
              "      <td>51ffd7144fcc4ddc688bf08869913f7f-a87ff679a2f3e...</td>\n",
              "      <td>Vertica</td>\n",
              "      <td>dbc92bf247537dbeb663cf99c545ae10-a87ff679a2f3e...</td>\n",
              "      <td>dbc92bf247537dbeb663cf99c545ae10-a87ff679a2f3e...</td>\n",
              "      <td>dbc92bf247537dbeb663cf99c545ae10-a87ff679a2f3e...</td>\n",
              "    </tr>\n",
              "    <tr>\n",
              "      <th>120</th>\n",
              "      <td>8ebb5bf7f39a9ec7304a17cdf5063df9-a87ff679a2f3e...</td>\n",
              "      <td>Martin</td>\n",
              "      <td>2320e632b8e006a33216f6b3a1c78578-a87ff679a2f3e...</td>\n",
              "      <td>SQL Server</td>\n",
              "      <td>f22351b7ee28abe1ce38de89cc37e301-a87ff679a2f3e...</td>\n",
              "      <td>f22351b7ee28abe1ce38de89cc37e301-a87ff679a2f3e...</td>\n",
              "      <td>f22351b7ee28abe1ce38de89cc37e301-a87ff679a2f3e...</td>\n",
              "    </tr>\n",
              "    <tr>\n",
              "      <th>121</th>\n",
              "      <td>8ebb5bf7f39a9ec7304a17cdf5063df9-a87ff679a2f3e...</td>\n",
              "      <td>Martin</td>\n",
              "      <td>bbbe1fbd5a476cc46c35ea4b051c1a36-a87ff679a2f3e...</td>\n",
              "      <td>phyton</td>\n",
              "      <td>18efebc43d1a0da0010e102c804f7e36-a87ff679a2f3e...</td>\n",
              "      <td>18efebc43d1a0da0010e102c804f7e36-a87ff679a2f3e...</td>\n",
              "      <td>18efebc43d1a0da0010e102c804f7e36-a87ff679a2f3e...</td>\n",
              "    </tr>\n",
              "    <tr>\n",
              "      <th>122</th>\n",
              "      <td>8ebb5bf7f39a9ec7304a17cdf5063df9-a87ff679a2f3e...</td>\n",
              "      <td>Martin</td>\n",
              "      <td>de1284aa9ed99ad37c8259c2028b161c-a87ff679a2f3e...</td>\n",
              "      <td>ODI</td>\n",
              "      <td>2e5a2a961bb7f5ef615b927a922c6983-a87ff679a2f3e...</td>\n",
              "      <td>2e5a2a961bb7f5ef615b927a922c6983-a87ff679a2f3e...</td>\n",
              "      <td>2e5a2a961bb7f5ef615b927a922c6983-a87ff679a2f3e...</td>\n",
              "    </tr>\n",
              "  </tbody>\n",
              "</table>\n",
              "<p>92 rows × 7 columns</p>\n",
              "</div>"
            ],
            "text/plain": [
              "                                             id_node_a  ...                                                 id\n",
              "9    1ae7f988daa7541df8d9eba692e3949d-c81e728d9d4c2...  ...  f5cb76e07e183a1c3fc6b354c2929395-c81e728d9d4c2...\n",
              "10   1ae7f988daa7541df8d9eba692e3949d-c81e728d9d4c2...  ...  6bfd7bf7a1d50d5a4c945ed0022279f1-c81e728d9d4c2...\n",
              "11   1ae7f988daa7541df8d9eba692e3949d-c81e728d9d4c2...  ...  dc8f11843caef21e9c043e19873bb41b-c81e728d9d4c2...\n",
              "12   1ae7f988daa7541df8d9eba692e3949d-c81e728d9d4c2...  ...  37689a914469ac3cbda1928c40a46992-c81e728d9d4c2...\n",
              "13   1ae7f988daa7541df8d9eba692e3949d-c81e728d9d4c2...  ...  b26bed07c37985affd5144308f6b3c00-c81e728d9d4c2...\n",
              "..                                                 ...  ...                                                ...\n",
              "116  533348a1f755b9512eb8b91aa07a300a-a87ff679a2f3e...  ...  f3c6dd6107873d16186aab31b4da9eba-c81e728d9d4c2...\n",
              "119  8ebb5bf7f39a9ec7304a17cdf5063df9-a87ff679a2f3e...  ...  dbc92bf247537dbeb663cf99c545ae10-a87ff679a2f3e...\n",
              "120  8ebb5bf7f39a9ec7304a17cdf5063df9-a87ff679a2f3e...  ...  f22351b7ee28abe1ce38de89cc37e301-a87ff679a2f3e...\n",
              "121  8ebb5bf7f39a9ec7304a17cdf5063df9-a87ff679a2f3e...  ...  18efebc43d1a0da0010e102c804f7e36-a87ff679a2f3e...\n",
              "122  8ebb5bf7f39a9ec7304a17cdf5063df9-a87ff679a2f3e...  ...  2e5a2a961bb7f5ef615b927a922c6983-a87ff679a2f3e...\n",
              "\n",
              "[92 rows x 7 columns]"
            ]
          },
          "metadata": {
            "tags": []
          },
          "execution_count": 109
        }
      ]
    },
    {
      "cell_type": "code",
      "metadata": {
        "id": "WcqxIIXliRZV",
        "colab_type": "code",
        "colab": {
          "base_uri": "https://localhost:8080/",
          "height": 514
        },
        "outputId": "289208b5-7f0e-4788-ea65-47249d1bb12e"
      },
      "source": [
        "df3 = df2.groupby(by='name_node_a', axis=0).count()\n",
        "df3"
      ],
      "execution_count": 116,
      "outputs": [
        {
          "output_type": "execute_result",
          "data": {
            "text/html": [
              "<div>\n",
              "<style scoped>\n",
              "    .dataframe tbody tr th:only-of-type {\n",
              "        vertical-align: middle;\n",
              "    }\n",
              "\n",
              "    .dataframe tbody tr th {\n",
              "        vertical-align: top;\n",
              "    }\n",
              "\n",
              "    .dataframe thead th {\n",
              "        text-align: right;\n",
              "    }\n",
              "</style>\n",
              "<table border=\"1\" class=\"dataframe\">\n",
              "  <thead>\n",
              "    <tr style=\"text-align: right;\">\n",
              "      <th></th>\n",
              "      <th>id_node_a</th>\n",
              "      <th>id_node_b</th>\n",
              "      <th>name_node_b</th>\n",
              "      <th>id_relationship</th>\n",
              "      <th>n.id</th>\n",
              "      <th>id</th>\n",
              "    </tr>\n",
              "    <tr>\n",
              "      <th>name_node_a</th>\n",
              "      <th></th>\n",
              "      <th></th>\n",
              "      <th></th>\n",
              "      <th></th>\n",
              "      <th></th>\n",
              "      <th></th>\n",
              "    </tr>\n",
              "  </thead>\n",
              "  <tbody>\n",
              "    <tr>\n",
              "      <th>Andrea</th>\n",
              "      <td>11</td>\n",
              "      <td>11</td>\n",
              "      <td>11</td>\n",
              "      <td>11</td>\n",
              "      <td>11</td>\n",
              "      <td>11</td>\n",
              "    </tr>\n",
              "    <tr>\n",
              "      <th>Daniel</th>\n",
              "      <td>14</td>\n",
              "      <td>14</td>\n",
              "      <td>14</td>\n",
              "      <td>14</td>\n",
              "      <td>14</td>\n",
              "      <td>14</td>\n",
              "    </tr>\n",
              "    <tr>\n",
              "      <th>Fernando</th>\n",
              "      <td>9</td>\n",
              "      <td>9</td>\n",
              "      <td>9</td>\n",
              "      <td>9</td>\n",
              "      <td>9</td>\n",
              "      <td>9</td>\n",
              "    </tr>\n",
              "    <tr>\n",
              "      <th>Gastón</th>\n",
              "      <td>3</td>\n",
              "      <td>3</td>\n",
              "      <td>3</td>\n",
              "      <td>3</td>\n",
              "      <td>3</td>\n",
              "      <td>3</td>\n",
              "    </tr>\n",
              "    <tr>\n",
              "      <th>Jonatan</th>\n",
              "      <td>6</td>\n",
              "      <td>6</td>\n",
              "      <td>6</td>\n",
              "      <td>6</td>\n",
              "      <td>6</td>\n",
              "      <td>6</td>\n",
              "    </tr>\n",
              "    <tr>\n",
              "      <th>Leonardo</th>\n",
              "      <td>4</td>\n",
              "      <td>4</td>\n",
              "      <td>4</td>\n",
              "      <td>4</td>\n",
              "      <td>4</td>\n",
              "      <td>4</td>\n",
              "    </tr>\n",
              "    <tr>\n",
              "      <th>Lionel</th>\n",
              "      <td>13</td>\n",
              "      <td>13</td>\n",
              "      <td>13</td>\n",
              "      <td>13</td>\n",
              "      <td>13</td>\n",
              "      <td>13</td>\n",
              "    </tr>\n",
              "    <tr>\n",
              "      <th>Lucas</th>\n",
              "      <td>4</td>\n",
              "      <td>4</td>\n",
              "      <td>4</td>\n",
              "      <td>4</td>\n",
              "      <td>4</td>\n",
              "      <td>4</td>\n",
              "    </tr>\n",
              "    <tr>\n",
              "      <th>Luciana</th>\n",
              "      <td>4</td>\n",
              "      <td>4</td>\n",
              "      <td>4</td>\n",
              "      <td>4</td>\n",
              "      <td>4</td>\n",
              "      <td>4</td>\n",
              "    </tr>\n",
              "    <tr>\n",
              "      <th>Marcela</th>\n",
              "      <td>5</td>\n",
              "      <td>5</td>\n",
              "      <td>5</td>\n",
              "      <td>5</td>\n",
              "      <td>5</td>\n",
              "      <td>5</td>\n",
              "    </tr>\n",
              "    <tr>\n",
              "      <th>Marcelo</th>\n",
              "      <td>7</td>\n",
              "      <td>7</td>\n",
              "      <td>7</td>\n",
              "      <td>7</td>\n",
              "      <td>7</td>\n",
              "      <td>7</td>\n",
              "    </tr>\n",
              "    <tr>\n",
              "      <th>Martin</th>\n",
              "      <td>4</td>\n",
              "      <td>4</td>\n",
              "      <td>4</td>\n",
              "      <td>4</td>\n",
              "      <td>4</td>\n",
              "      <td>4</td>\n",
              "    </tr>\n",
              "    <tr>\n",
              "      <th>Matias</th>\n",
              "      <td>4</td>\n",
              "      <td>4</td>\n",
              "      <td>4</td>\n",
              "      <td>4</td>\n",
              "      <td>4</td>\n",
              "      <td>4</td>\n",
              "    </tr>\n",
              "    <tr>\n",
              "      <th>Miguel</th>\n",
              "      <td>4</td>\n",
              "      <td>4</td>\n",
              "      <td>4</td>\n",
              "      <td>4</td>\n",
              "      <td>4</td>\n",
              "      <td>4</td>\n",
              "    </tr>\n",
              "  </tbody>\n",
              "</table>\n",
              "</div>"
            ],
            "text/plain": [
              "             id_node_a  id_node_b  name_node_b  id_relationship  n.id  id\n",
              "name_node_a                                                              \n",
              "Andrea              11         11           11               11    11  11\n",
              "Daniel              14         14           14               14    14  14\n",
              "Fernando             9          9            9                9     9   9\n",
              "Gastón               3          3            3                3     3   3\n",
              "Jonatan              6          6            6                6     6   6\n",
              "Leonardo             4          4            4                4     4   4\n",
              "Lionel              13         13           13               13    13  13\n",
              "Lucas                4          4            4                4     4   4\n",
              "Luciana              4          4            4                4     4   4\n",
              "Marcela              5          5            5                5     5   5\n",
              "Marcelo              7          7            7                7     7   7\n",
              "Martin               4          4            4                4     4   4\n",
              "Matias               4          4            4                4     4   4\n",
              "Miguel               4          4            4                4     4   4"
            ]
          },
          "metadata": {
            "tags": []
          },
          "execution_count": 116
        }
      ]
    },
    {
      "cell_type": "code",
      "metadata": {
        "id": "3jU0PIEOib2s",
        "colab_type": "code",
        "colab": {
          "base_uri": "https://localhost:8080/",
          "height": 419
        },
        "outputId": "70aefa84-8d91-4ea9-cec9-a1656e709720"
      },
      "source": [
        "df4 = df2.melt(id_vars='name_node_a', value_vars='name_node_b')\n",
        "df4"
      ],
      "execution_count": 118,
      "outputs": [
        {
          "output_type": "execute_result",
          "data": {
            "text/html": [
              "<div>\n",
              "<style scoped>\n",
              "    .dataframe tbody tr th:only-of-type {\n",
              "        vertical-align: middle;\n",
              "    }\n",
              "\n",
              "    .dataframe tbody tr th {\n",
              "        vertical-align: top;\n",
              "    }\n",
              "\n",
              "    .dataframe thead th {\n",
              "        text-align: right;\n",
              "    }\n",
              "</style>\n",
              "<table border=\"1\" class=\"dataframe\">\n",
              "  <thead>\n",
              "    <tr style=\"text-align: right;\">\n",
              "      <th></th>\n",
              "      <th>name_node_a</th>\n",
              "      <th>variable</th>\n",
              "      <th>value</th>\n",
              "    </tr>\n",
              "  </thead>\n",
              "  <tbody>\n",
              "    <tr>\n",
              "      <th>0</th>\n",
              "      <td>Marcela</td>\n",
              "      <td>name_node_b</td>\n",
              "      <td>windows</td>\n",
              "    </tr>\n",
              "    <tr>\n",
              "      <th>1</th>\n",
              "      <td>Marcela</td>\n",
              "      <td>name_node_b</td>\n",
              "      <td>Linux</td>\n",
              "    </tr>\n",
              "    <tr>\n",
              "      <th>2</th>\n",
              "      <td>Marcela</td>\n",
              "      <td>name_node_b</td>\n",
              "      <td>MySQL</td>\n",
              "    </tr>\n",
              "    <tr>\n",
              "      <th>3</th>\n",
              "      <td>Marcela</td>\n",
              "      <td>name_node_b</td>\n",
              "      <td>phyton</td>\n",
              "    </tr>\n",
              "    <tr>\n",
              "      <th>4</th>\n",
              "      <td>Marcela</td>\n",
              "      <td>name_node_b</td>\n",
              "      <td>SQL Server</td>\n",
              "    </tr>\n",
              "    <tr>\n",
              "      <th>...</th>\n",
              "      <td>...</td>\n",
              "      <td>...</td>\n",
              "      <td>...</td>\n",
              "    </tr>\n",
              "    <tr>\n",
              "      <th>87</th>\n",
              "      <td>Andrea</td>\n",
              "      <td>name_node_b</td>\n",
              "      <td>pentaho</td>\n",
              "    </tr>\n",
              "    <tr>\n",
              "      <th>88</th>\n",
              "      <td>Martin</td>\n",
              "      <td>name_node_b</td>\n",
              "      <td>Vertica</td>\n",
              "    </tr>\n",
              "    <tr>\n",
              "      <th>89</th>\n",
              "      <td>Martin</td>\n",
              "      <td>name_node_b</td>\n",
              "      <td>SQL Server</td>\n",
              "    </tr>\n",
              "    <tr>\n",
              "      <th>90</th>\n",
              "      <td>Martin</td>\n",
              "      <td>name_node_b</td>\n",
              "      <td>phyton</td>\n",
              "    </tr>\n",
              "    <tr>\n",
              "      <th>91</th>\n",
              "      <td>Martin</td>\n",
              "      <td>name_node_b</td>\n",
              "      <td>ODI</td>\n",
              "    </tr>\n",
              "  </tbody>\n",
              "</table>\n",
              "<p>92 rows × 3 columns</p>\n",
              "</div>"
            ],
            "text/plain": [
              "   name_node_a     variable       value\n",
              "0      Marcela  name_node_b     windows\n",
              "1      Marcela  name_node_b       Linux\n",
              "2      Marcela  name_node_b       MySQL\n",
              "3      Marcela  name_node_b      phyton\n",
              "4      Marcela  name_node_b  SQL Server\n",
              "..         ...          ...         ...\n",
              "87      Andrea  name_node_b     pentaho\n",
              "88      Martin  name_node_b     Vertica\n",
              "89      Martin  name_node_b  SQL Server\n",
              "90      Martin  name_node_b      phyton\n",
              "91      Martin  name_node_b         ODI\n",
              "\n",
              "[92 rows x 3 columns]"
            ]
          },
          "metadata": {
            "tags": []
          },
          "execution_count": 118
        }
      ]
    },
    {
      "cell_type": "markdown",
      "metadata": {
        "id": "61G0IAQLmBQE",
        "colab_type": "text"
      },
      "source": [
        "Next step: agrupar conocimientos por nombres para tener una tabla lista.\n",
        "Posteriormente podemos hacer los gráficos a partir de esto.\n",
        "Luego y como 'nice to have' podemos crear gráficos de correlaciones entre los conociemientos."
      ]
    },
    {
      "cell_type": "code",
      "metadata": {
        "id": "BWADmZqWmT7K",
        "colab_type": "code",
        "colab": {}
      },
      "source": [
        ""
      ],
      "execution_count": null,
      "outputs": []
    }
  ]
}
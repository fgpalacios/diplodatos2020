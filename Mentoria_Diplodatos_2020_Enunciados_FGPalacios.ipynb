{
  "nbformat": 4,
  "nbformat_minor": 0,
  "metadata": {
    "colab": {
      "name": "Mentoria Diplodatos 2020  - Enunciados - FGPalacios.ipynb",
      "provenance": [],
      "collapsed_sections": []
    },
    "kernelspec": {
      "name": "python3",
      "display_name": "Python 3"
    }
  },
  "cells": [
    {
      "cell_type": "markdown",
      "metadata": {
        "id": "C2ere7Op1an3",
        "colab_type": "text"
      },
      "source": [
        "# Análisis y visualización de datos\n",
        "\n",
        "Con el objetivo de ir entendiendo la naturaleza de los datos y su modo de presentación de grafos, vamos a ir analizando los distintos tipos de nodos con sus características.\n",
        "\n",
        "Se puede comenzar por los siguientes puntos y luego agregar otros de interés:\n",
        "\n",
        "1- Cantidad de Personas por Edades, aqui podemos analizar la distribución de las personas de todos los equipos de trabajo, otro análisis que se puede realizar es determinar el mismo análisis pero separado por sexo.\n",
        "\n",
        "2- Existe otro factor importante para determinar el grado de conocimiento determinado por su Seniority (organizados como Senior, Semi-senior y Junior, siendo este último el de menos experiencia), aqui podemos determinar el nivel de expertís sobre las tecnologías a analizar y con ello determinar si los equipos están altamente especializados con perfiles senior o balancean su capacidad de trabajo con perfiles de menos experiencia.\n",
        "Otro factor importante a analizar es el grado de participación de las mujeres ya que de esta manera se pueden aumentar la participación de mujeres en caso de que sea muy escasa.\n",
        "\n",
        "3- Se correlacionan las edades de las personas con los años de experiencia, que nivel de participación se observa por sexo?\n",
        "\n",
        "4- Cuales con los conocimientos que más poseen las personas?\n",
        "Teniendo en cuenta que más adelante queremos equilibrar los conocimientos que tecnologias son las dominantes? , que nivel de participación se observa por sexo?\n",
        "\n",
        "No olvidar responder a los puntos anteriores también con las visualizaciones apropiadas.\n",
        "\n",
        "Tip: una visualización interesante para la frecuencia de palabras es la WordCloud."
      ]
    },
    {
      "cell_type": "code",
      "metadata": {
        "id": "advPXLPs5Wu6",
        "colab_type": "code",
        "colab": {
          "base_uri": "https://localhost:8080/",
          "height": 476
        },
        "outputId": "d5e1c2bc-bb47-4605-bc68-868615cb68bd"
      },
      "source": [
        "#Lectura\n",
        "# Vamos a abrir los archivos que poseen la información\n",
        "# El primer archivo posee los nodos que contienen a las personas, skills, conocimientos, team  (como se explicó en el dataset)\n",
        "# Aqui se encuentran todos los features de acuerdo al tipo de nodo\n",
        "nodos = pd.read_csv(\n",
        "    'https://raw.githubusercontent.com/fgpalacios/diplodatos2020/master/dataset/nodes.csv')\n",
        "\n",
        "# El segundo archivo posee la relación que existen entre los nodos es decir un nodo persona tiene conocimientos vinculados que es lo que sabe\n",
        "relaciones = pd.read_csv(\n",
        "    'https://raw.githubusercontent.com/fgpalacios/diplodatos2020/master/dataset/relationships.csv')\n",
        "\n",
        "#Display HTML\n",
        "display(nodos.head())\n",
        "display(relaciones.head())"
      ],
      "execution_count": null,
      "outputs": [
        {
          "output_type": "display_data",
          "data": {
            "text/html": [
              "<div>\n",
              "<style scoped>\n",
              "    .dataframe tbody tr th:only-of-type {\n",
              "        vertical-align: middle;\n",
              "    }\n",
              "\n",
              "    .dataframe tbody tr th {\n",
              "        vertical-align: top;\n",
              "    }\n",
              "\n",
              "    .dataframe thead th {\n",
              "        text-align: right;\n",
              "    }\n",
              "</style>\n",
              "<table border=\"1\" class=\"dataframe\">\n",
              "  <thead>\n",
              "    <tr style=\"text-align: right;\">\n",
              "      <th></th>\n",
              "      <th>n.id</th>\n",
              "      <th>name_node_a</th>\n",
              "      <th>n.type</th>\n",
              "      <th>n.category</th>\n",
              "      <th>n.gender</th>\n",
              "      <th>n.age</th>\n",
              "      <th>n.experience</th>\n",
              "    </tr>\n",
              "  </thead>\n",
              "  <tbody>\n",
              "    <tr>\n",
              "      <th>0</th>\n",
              "      <td>eeca1815ef2efc089f12bfe8c1c4c7f7-c81e728d9d4c2...</td>\n",
              "      <td>Team3</td>\n",
              "      <td>team</td>\n",
              "      <td>NaN</td>\n",
              "      <td>NaN</td>\n",
              "      <td>0.0</td>\n",
              "      <td>NaN</td>\n",
              "    </tr>\n",
              "    <tr>\n",
              "      <th>1</th>\n",
              "      <td>73cceb4a6d1f1fd7e91d38c2b906be15-c81e728d9d4c2...</td>\n",
              "      <td>Team2</td>\n",
              "      <td>team</td>\n",
              "      <td>NaN</td>\n",
              "      <td>NaN</td>\n",
              "      <td>0.0</td>\n",
              "      <td>NaN</td>\n",
              "    </tr>\n",
              "    <tr>\n",
              "      <th>2</th>\n",
              "      <td>1ae7f988daa7541df8d9eba692e3949d-c81e728d9d4c2...</td>\n",
              "      <td>Marcela</td>\n",
              "      <td>person</td>\n",
              "      <td>junior</td>\n",
              "      <td>female</td>\n",
              "      <td>23.0</td>\n",
              "      <td>3.0</td>\n",
              "    </tr>\n",
              "    <tr>\n",
              "      <th>3</th>\n",
              "      <td>f496c7004f07dba853bf8fadc28c9650-c81e728d9d4c2...</td>\n",
              "      <td>Daniel</td>\n",
              "      <td>person</td>\n",
              "      <td>senior</td>\n",
              "      <td>male</td>\n",
              "      <td>44.0</td>\n",
              "      <td>11.0</td>\n",
              "    </tr>\n",
              "    <tr>\n",
              "      <th>4</th>\n",
              "      <td>e726642e86168eacfeee3fa8c4da012e-c81e728d9d4c2...</td>\n",
              "      <td>Leonardo</td>\n",
              "      <td>person</td>\n",
              "      <td>senior</td>\n",
              "      <td>male</td>\n",
              "      <td>45.0</td>\n",
              "      <td>16.0</td>\n",
              "    </tr>\n",
              "  </tbody>\n",
              "</table>\n",
              "</div>"
            ],
            "text/plain": [
              "                                                n.id  ... n.experience\n",
              "0  eeca1815ef2efc089f12bfe8c1c4c7f7-c81e728d9d4c2...  ...          NaN\n",
              "1  73cceb4a6d1f1fd7e91d38c2b906be15-c81e728d9d4c2...  ...          NaN\n",
              "2  1ae7f988daa7541df8d9eba692e3949d-c81e728d9d4c2...  ...          3.0\n",
              "3  f496c7004f07dba853bf8fadc28c9650-c81e728d9d4c2...  ...         11.0\n",
              "4  e726642e86168eacfeee3fa8c4da012e-c81e728d9d4c2...  ...         16.0\n",
              "\n",
              "[5 rows x 7 columns]"
            ]
          },
          "metadata": {
            "tags": []
          }
        },
        {
          "output_type": "display_data",
          "data": {
            "text/html": [
              "<div>\n",
              "<style scoped>\n",
              "    .dataframe tbody tr th:only-of-type {\n",
              "        vertical-align: middle;\n",
              "    }\n",
              "\n",
              "    .dataframe tbody tr th {\n",
              "        vertical-align: top;\n",
              "    }\n",
              "\n",
              "    .dataframe thead th {\n",
              "        text-align: right;\n",
              "    }\n",
              "</style>\n",
              "<table border=\"1\" class=\"dataframe\">\n",
              "  <thead>\n",
              "    <tr style=\"text-align: right;\">\n",
              "      <th></th>\n",
              "      <th>id_node_a</th>\n",
              "      <th>name_node_a</th>\n",
              "      <th>id_node_b</th>\n",
              "      <th>name_node_b</th>\n",
              "      <th>id_relationship</th>\n",
              "    </tr>\n",
              "  </thead>\n",
              "  <tbody>\n",
              "    <tr>\n",
              "      <th>0</th>\n",
              "      <td>eeca1815ef2efc089f12bfe8c1c4c7f7-c81e728d9d4c2...</td>\n",
              "      <td>Team3</td>\n",
              "      <td>f496c7004f07dba853bf8fadc28c9650-c81e728d9d4c2...</td>\n",
              "      <td>Daniel</td>\n",
              "      <td>78031203cb9f8df3b96024f973e93dce-c81e728d9d4c2...</td>\n",
              "    </tr>\n",
              "    <tr>\n",
              "      <th>1</th>\n",
              "      <td>eeca1815ef2efc089f12bfe8c1c4c7f7-c81e728d9d4c2...</td>\n",
              "      <td>Team3</td>\n",
              "      <td>1ae7f988daa7541df8d9eba692e3949d-c81e728d9d4c2...</td>\n",
              "      <td>Marcela</td>\n",
              "      <td>920da6fdbb28002170bd11ac31f931fa-c81e728d9d4c2...</td>\n",
              "    </tr>\n",
              "    <tr>\n",
              "      <th>2</th>\n",
              "      <td>eeca1815ef2efc089f12bfe8c1c4c7f7-c81e728d9d4c2...</td>\n",
              "      <td>Team3</td>\n",
              "      <td>a5b6fc8ad5a79c2b57af4137389a7b6b-c81e728d9d4c2...</td>\n",
              "      <td>Marcelo</td>\n",
              "      <td>d5f338d4f13a96698fda12514a76e4ad-c81e728d9d4c2...</td>\n",
              "    </tr>\n",
              "    <tr>\n",
              "      <th>3</th>\n",
              "      <td>73cceb4a6d1f1fd7e91d38c2b906be15-c81e728d9d4c2...</td>\n",
              "      <td>Team2</td>\n",
              "      <td>e726642e86168eacfeee3fa8c4da012e-c81e728d9d4c2...</td>\n",
              "      <td>Leonardo</td>\n",
              "      <td>bad0c7e4278c68df0eeadaaa9499f260-c81e728d9d4c2...</td>\n",
              "    </tr>\n",
              "    <tr>\n",
              "      <th>4</th>\n",
              "      <td>73cceb4a6d1f1fd7e91d38c2b906be15-c81e728d9d4c2...</td>\n",
              "      <td>Team2</td>\n",
              "      <td>10c246e19e023f335e179b937c28a6da-c81e728d9d4c2...</td>\n",
              "      <td>Matias</td>\n",
              "      <td>ff8fe587c76f4587b2fe3c6a4bd98d86-c81e728d9d4c2...</td>\n",
              "    </tr>\n",
              "  </tbody>\n",
              "</table>\n",
              "</div>"
            ],
            "text/plain": [
              "                                           id_node_a  ...                                    id_relationship\n",
              "0  eeca1815ef2efc089f12bfe8c1c4c7f7-c81e728d9d4c2...  ...  78031203cb9f8df3b96024f973e93dce-c81e728d9d4c2...\n",
              "1  eeca1815ef2efc089f12bfe8c1c4c7f7-c81e728d9d4c2...  ...  920da6fdbb28002170bd11ac31f931fa-c81e728d9d4c2...\n",
              "2  eeca1815ef2efc089f12bfe8c1c4c7f7-c81e728d9d4c2...  ...  d5f338d4f13a96698fda12514a76e4ad-c81e728d9d4c2...\n",
              "3  73cceb4a6d1f1fd7e91d38c2b906be15-c81e728d9d4c2...  ...  bad0c7e4278c68df0eeadaaa9499f260-c81e728d9d4c2...\n",
              "4  73cceb4a6d1f1fd7e91d38c2b906be15-c81e728d9d4c2...  ...  ff8fe587c76f4587b2fe3c6a4bd98d86-c81e728d9d4c2...\n",
              "\n",
              "[5 rows x 5 columns]"
            ]
          },
          "metadata": {
            "tags": []
          }
        }
      ]
    },
    {
      "cell_type": "markdown",
      "metadata": {
        "id": "22OdCtGCATvp",
        "colab_type": "text"
      },
      "source": [
        "# Generamos estadísticas descriptivas del nodo.\n"
      ]
    },
    {
      "cell_type": "code",
      "metadata": {
        "id": "qjcBH9sJ9nAv",
        "colab_type": "code",
        "colab": {
          "base_uri": "https://localhost:8080/",
          "height": 297
        },
        "outputId": "e5403aa2-e8bf-485c-eeba-cc35b89c779f"
      },
      "source": [
        "nodos.describe()"
      ],
      "execution_count": null,
      "outputs": [
        {
          "output_type": "execute_result",
          "data": {
            "text/html": [
              "<div>\n",
              "<style scoped>\n",
              "    .dataframe tbody tr th:only-of-type {\n",
              "        vertical-align: middle;\n",
              "    }\n",
              "\n",
              "    .dataframe tbody tr th {\n",
              "        vertical-align: top;\n",
              "    }\n",
              "\n",
              "    .dataframe thead th {\n",
              "        text-align: right;\n",
              "    }\n",
              "</style>\n",
              "<table border=\"1\" class=\"dataframe\">\n",
              "  <thead>\n",
              "    <tr style=\"text-align: right;\">\n",
              "      <th></th>\n",
              "      <th>n.age</th>\n",
              "      <th>n.experience</th>\n",
              "    </tr>\n",
              "  </thead>\n",
              "  <tbody>\n",
              "    <tr>\n",
              "      <th>count</th>\n",
              "      <td>22.000000</td>\n",
              "      <td>14.000000</td>\n",
              "    </tr>\n",
              "    <tr>\n",
              "      <th>mean</th>\n",
              "      <td>20.681818</td>\n",
              "      <td>5.785714</td>\n",
              "    </tr>\n",
              "    <tr>\n",
              "      <th>std</th>\n",
              "      <td>16.980062</td>\n",
              "      <td>4.281958</td>\n",
              "    </tr>\n",
              "    <tr>\n",
              "      <th>min</th>\n",
              "      <td>0.000000</td>\n",
              "      <td>2.000000</td>\n",
              "    </tr>\n",
              "    <tr>\n",
              "      <th>25%</th>\n",
              "      <td>0.000000</td>\n",
              "      <td>3.000000</td>\n",
              "    </tr>\n",
              "    <tr>\n",
              "      <th>50%</th>\n",
              "      <td>26.000000</td>\n",
              "      <td>4.000000</td>\n",
              "    </tr>\n",
              "    <tr>\n",
              "      <th>75%</th>\n",
              "      <td>34.000000</td>\n",
              "      <td>6.750000</td>\n",
              "    </tr>\n",
              "    <tr>\n",
              "      <th>max</th>\n",
              "      <td>45.000000</td>\n",
              "      <td>16.000000</td>\n",
              "    </tr>\n",
              "  </tbody>\n",
              "</table>\n",
              "</div>"
            ],
            "text/plain": [
              "           n.age  n.experience\n",
              "count  22.000000     14.000000\n",
              "mean   20.681818      5.785714\n",
              "std    16.980062      4.281958\n",
              "min     0.000000      2.000000\n",
              "25%     0.000000      3.000000\n",
              "50%    26.000000      4.000000\n",
              "75%    34.000000      6.750000\n",
              "max    45.000000     16.000000"
            ]
          },
          "metadata": {
            "tags": []
          },
          "execution_count": 18
        }
      ]
    },
    {
      "cell_type": "markdown",
      "metadata": {
        "id": "1zahzdo7_zZs",
        "colab_type": "text"
      },
      "source": [
        "Analizamos los tipos de datos de cada campo inferidos por panda de los nodos"
      ]
    },
    {
      "cell_type": "code",
      "metadata": {
        "id": "CxdqXJp8_ja5",
        "colab_type": "code",
        "colab": {
          "base_uri": "https://localhost:8080/",
          "height": 297
        },
        "outputId": "d14d7690-fb40-4df9-ebf0-b0108f9b4fe7"
      },
      "source": [
        "dtypes = pd.DataFrame(personas.dtypes)\n",
        "dtypes.index.name = 'Campo'\n",
        "dtypes.rename(columns={0: 'Tipo'})"
      ],
      "execution_count": null,
      "outputs": [
        {
          "output_type": "execute_result",
          "data": {
            "text/html": [
              "<div>\n",
              "<style scoped>\n",
              "    .dataframe tbody tr th:only-of-type {\n",
              "        vertical-align: middle;\n",
              "    }\n",
              "\n",
              "    .dataframe tbody tr th {\n",
              "        vertical-align: top;\n",
              "    }\n",
              "\n",
              "    .dataframe thead th {\n",
              "        text-align: right;\n",
              "    }\n",
              "</style>\n",
              "<table border=\"1\" class=\"dataframe\">\n",
              "  <thead>\n",
              "    <tr style=\"text-align: right;\">\n",
              "      <th></th>\n",
              "      <th>Tipo</th>\n",
              "    </tr>\n",
              "    <tr>\n",
              "      <th>Campo</th>\n",
              "      <th></th>\n",
              "    </tr>\n",
              "  </thead>\n",
              "  <tbody>\n",
              "    <tr>\n",
              "      <th>n.id</th>\n",
              "      <td>object</td>\n",
              "    </tr>\n",
              "    <tr>\n",
              "      <th>name_node_a</th>\n",
              "      <td>object</td>\n",
              "    </tr>\n",
              "    <tr>\n",
              "      <th>n.type</th>\n",
              "      <td>object</td>\n",
              "    </tr>\n",
              "    <tr>\n",
              "      <th>n.category</th>\n",
              "      <td>object</td>\n",
              "    </tr>\n",
              "    <tr>\n",
              "      <th>n.gender</th>\n",
              "      <td>object</td>\n",
              "    </tr>\n",
              "    <tr>\n",
              "      <th>n.age</th>\n",
              "      <td>float64</td>\n",
              "    </tr>\n",
              "    <tr>\n",
              "      <th>n.experience</th>\n",
              "      <td>float64</td>\n",
              "    </tr>\n",
              "  </tbody>\n",
              "</table>\n",
              "</div>"
            ],
            "text/plain": [
              "                 Tipo\n",
              "Campo                \n",
              "n.id           object\n",
              "name_node_a    object\n",
              "n.type         object\n",
              "n.category     object\n",
              "n.gender       object\n",
              "n.age         float64\n",
              "n.experience  float64"
            ]
          },
          "metadata": {
            "tags": []
          },
          "execution_count": 20
        }
      ]
    },
    {
      "cell_type": "markdown",
      "metadata": {
        "id": "doCUxy1TAETZ",
        "colab_type": "text"
      },
      "source": [
        "Analizamos los tipos de datos de cada campo inferidos por pandas de las relaciones\n",
        "\n"
      ]
    },
    {
      "cell_type": "code",
      "metadata": {
        "id": "h2yX4kgA-lER",
        "colab_type": "code",
        "colab": {
          "base_uri": "https://localhost:8080/",
          "height": 190
        },
        "outputId": "4a424600-b37c-4905-a3f6-bfbce2916171"
      },
      "source": [
        "# Generamos estadísticas descriptivas de las relaciones\n",
        "relaciones.describe()"
      ],
      "execution_count": null,
      "outputs": [
        {
          "output_type": "execute_result",
          "data": {
            "text/html": [
              "<div>\n",
              "<style scoped>\n",
              "    .dataframe tbody tr th:only-of-type {\n",
              "        vertical-align: middle;\n",
              "    }\n",
              "\n",
              "    .dataframe tbody tr th {\n",
              "        vertical-align: top;\n",
              "    }\n",
              "\n",
              "    .dataframe thead th {\n",
              "        text-align: right;\n",
              "    }\n",
              "</style>\n",
              "<table border=\"1\" class=\"dataframe\">\n",
              "  <thead>\n",
              "    <tr style=\"text-align: right;\">\n",
              "      <th></th>\n",
              "      <th>id_node_a</th>\n",
              "      <th>name_node_a</th>\n",
              "      <th>id_node_b</th>\n",
              "      <th>name_node_b</th>\n",
              "      <th>id_relationship</th>\n",
              "    </tr>\n",
              "  </thead>\n",
              "  <tbody>\n",
              "    <tr>\n",
              "      <th>count</th>\n",
              "      <td>197</td>\n",
              "      <td>197</td>\n",
              "      <td>197</td>\n",
              "      <td>197</td>\n",
              "      <td>197</td>\n",
              "    </tr>\n",
              "    <tr>\n",
              "      <th>unique</th>\n",
              "      <td>64</td>\n",
              "      <td>64</td>\n",
              "      <td>70</td>\n",
              "      <td>69</td>\n",
              "      <td>197</td>\n",
              "    </tr>\n",
              "    <tr>\n",
              "      <th>top</th>\n",
              "      <td>f496c7004f07dba853bf8fadc28c9650-c81e728d9d4c2...</td>\n",
              "      <td>Daniel</td>\n",
              "      <td>2320e632b8e006a33216f6b3a1c78578-a87ff679a2f3e...</td>\n",
              "      <td>SQL Server</td>\n",
              "      <td>4016edfca46898bfdda98c19f492994f-c81e728d9d4c2...</td>\n",
              "    </tr>\n",
              "    <tr>\n",
              "      <th>freq</th>\n",
              "      <td>15</td>\n",
              "      <td>15</td>\n",
              "      <td>12</td>\n",
              "      <td>12</td>\n",
              "      <td>1</td>\n",
              "    </tr>\n",
              "  </tbody>\n",
              "</table>\n",
              "</div>"
            ],
            "text/plain": [
              "                                                id_node_a  ...                                    id_relationship\n",
              "count                                                 197  ...                                                197\n",
              "unique                                                 64  ...                                                197\n",
              "top     f496c7004f07dba853bf8fadc28c9650-c81e728d9d4c2...  ...  4016edfca46898bfdda98c19f492994f-c81e728d9d4c2...\n",
              "freq                                                   15  ...                                                  1\n",
              "\n",
              "[4 rows x 5 columns]"
            ]
          },
          "metadata": {
            "tags": []
          },
          "execution_count": 19
        }
      ]
    },
    {
      "cell_type": "code",
      "metadata": {
        "id": "ArxGaoi4AXxv",
        "colab_type": "code",
        "colab": {
          "base_uri": "https://localhost:8080/",
          "height": 235
        },
        "outputId": "1fb52a47-f8bd-4c46-b661-828a1b7a1a8c"
      },
      "source": [
        "dtypes = pd.DataFrame(relaciones.dtypes)\n",
        "dtypes.index.name = 'Campo'\n",
        "dtypes.rename(columns={0: 'Tipo'})"
      ],
      "execution_count": null,
      "outputs": [
        {
          "output_type": "execute_result",
          "data": {
            "text/html": [
              "<div>\n",
              "<style scoped>\n",
              "    .dataframe tbody tr th:only-of-type {\n",
              "        vertical-align: middle;\n",
              "    }\n",
              "\n",
              "    .dataframe tbody tr th {\n",
              "        vertical-align: top;\n",
              "    }\n",
              "\n",
              "    .dataframe thead th {\n",
              "        text-align: right;\n",
              "    }\n",
              "</style>\n",
              "<table border=\"1\" class=\"dataframe\">\n",
              "  <thead>\n",
              "    <tr style=\"text-align: right;\">\n",
              "      <th></th>\n",
              "      <th>Tipo</th>\n",
              "    </tr>\n",
              "    <tr>\n",
              "      <th>Campo</th>\n",
              "      <th></th>\n",
              "    </tr>\n",
              "  </thead>\n",
              "  <tbody>\n",
              "    <tr>\n",
              "      <th>id_node_a</th>\n",
              "      <td>object</td>\n",
              "    </tr>\n",
              "    <tr>\n",
              "      <th>name_node_a</th>\n",
              "      <td>object</td>\n",
              "    </tr>\n",
              "    <tr>\n",
              "      <th>id_node_b</th>\n",
              "      <td>object</td>\n",
              "    </tr>\n",
              "    <tr>\n",
              "      <th>name_node_b</th>\n",
              "      <td>object</td>\n",
              "    </tr>\n",
              "    <tr>\n",
              "      <th>id_relationship</th>\n",
              "      <td>object</td>\n",
              "    </tr>\n",
              "  </tbody>\n",
              "</table>\n",
              "</div>"
            ],
            "text/plain": [
              "                   Tipo\n",
              "Campo                  \n",
              "id_node_a        object\n",
              "name_node_a      object\n",
              "id_node_b        object\n",
              "name_node_b      object\n",
              "id_relationship  object"
            ]
          },
          "metadata": {
            "tags": []
          },
          "execution_count": 21
        }
      ]
    },
    {
      "cell_type": "code",
      "metadata": {
        "id": "jt1C-MTY6WPX",
        "colab_type": "code",
        "colab": {
          "base_uri": "https://localhost:8080/",
          "height": 483
        },
        "outputId": "bb888316-0bbf-4492-f043-4b77d9c5c84b"
      },
      "source": [
        "# En el caso de querer trabajar solo con las personas se puede aplicar lo siguiente:\n",
        "#Drop Nodos que no sean personas\n",
        "personas = nodos[nodos[\"n.type\"] == \"person\"]\n",
        "\n",
        "#Display html\n",
        "display(personas)"
      ],
      "execution_count": null,
      "outputs": [
        {
          "output_type": "display_data",
          "data": {
            "text/html": [
              "<div>\n",
              "<style scoped>\n",
              "    .dataframe tbody tr th:only-of-type {\n",
              "        vertical-align: middle;\n",
              "    }\n",
              "\n",
              "    .dataframe tbody tr th {\n",
              "        vertical-align: top;\n",
              "    }\n",
              "\n",
              "    .dataframe thead th {\n",
              "        text-align: right;\n",
              "    }\n",
              "</style>\n",
              "<table border=\"1\" class=\"dataframe\">\n",
              "  <thead>\n",
              "    <tr style=\"text-align: right;\">\n",
              "      <th>Campo</th>\n",
              "      <th>n.id</th>\n",
              "      <th>name_node_a</th>\n",
              "      <th>n.type</th>\n",
              "      <th>n.category</th>\n",
              "      <th>n.gender</th>\n",
              "      <th>n.age</th>\n",
              "      <th>n.experience</th>\n",
              "    </tr>\n",
              "  </thead>\n",
              "  <tbody>\n",
              "    <tr>\n",
              "      <th>2</th>\n",
              "      <td>1ae7f988daa7541df8d9eba692e3949d-c81e728d9d4c2...</td>\n",
              "      <td>Marcela</td>\n",
              "      <td>person</td>\n",
              "      <td>junior</td>\n",
              "      <td>female</td>\n",
              "      <td>23.0</td>\n",
              "      <td>3.0</td>\n",
              "    </tr>\n",
              "    <tr>\n",
              "      <th>3</th>\n",
              "      <td>f496c7004f07dba853bf8fadc28c9650-c81e728d9d4c2...</td>\n",
              "      <td>Daniel</td>\n",
              "      <td>person</td>\n",
              "      <td>senior</td>\n",
              "      <td>male</td>\n",
              "      <td>44.0</td>\n",
              "      <td>11.0</td>\n",
              "    </tr>\n",
              "    <tr>\n",
              "      <th>4</th>\n",
              "      <td>e726642e86168eacfeee3fa8c4da012e-c81e728d9d4c2...</td>\n",
              "      <td>Leonardo</td>\n",
              "      <td>person</td>\n",
              "      <td>senior</td>\n",
              "      <td>male</td>\n",
              "      <td>45.0</td>\n",
              "      <td>16.0</td>\n",
              "    </tr>\n",
              "    <tr>\n",
              "      <th>5</th>\n",
              "      <td>10c246e19e023f335e179b937c28a6da-c81e728d9d4c2...</td>\n",
              "      <td>Matias</td>\n",
              "      <td>person</td>\n",
              "      <td>junior</td>\n",
              "      <td>male</td>\n",
              "      <td>25.0</td>\n",
              "      <td>2.0</td>\n",
              "    </tr>\n",
              "    <tr>\n",
              "      <th>6</th>\n",
              "      <td>bcb93d9680b08656367b3682a9b4c127-c81e728d9d4c2...</td>\n",
              "      <td>Lionel</td>\n",
              "      <td>person</td>\n",
              "      <td>semi-senior</td>\n",
              "      <td>male</td>\n",
              "      <td>35.0</td>\n",
              "      <td>3.0</td>\n",
              "    </tr>\n",
              "    <tr>\n",
              "      <th>7</th>\n",
              "      <td>f9fdac801645d8b673ce785f01658a1e-c81e728d9d4c2...</td>\n",
              "      <td>Miguel</td>\n",
              "      <td>person</td>\n",
              "      <td>junior</td>\n",
              "      <td>male</td>\n",
              "      <td>24.0</td>\n",
              "      <td>2.0</td>\n",
              "    </tr>\n",
              "    <tr>\n",
              "      <th>8</th>\n",
              "      <td>822736b3fe21296f7d5c35a5e13d3ca3-c81e728d9d4c2...</td>\n",
              "      <td>Luciana</td>\n",
              "      <td>person</td>\n",
              "      <td>semi-senior</td>\n",
              "      <td>female</td>\n",
              "      <td>34.0</td>\n",
              "      <td>4.0</td>\n",
              "    </tr>\n",
              "    <tr>\n",
              "      <th>9</th>\n",
              "      <td>a5b6fc8ad5a79c2b57af4137389a7b6b-c81e728d9d4c2...</td>\n",
              "      <td>Marcelo</td>\n",
              "      <td>person</td>\n",
              "      <td>senior</td>\n",
              "      <td>male</td>\n",
              "      <td>41.0</td>\n",
              "      <td>12.0</td>\n",
              "    </tr>\n",
              "    <tr>\n",
              "      <th>18</th>\n",
              "      <td>79b60482d282d7fe48287ef484be2d31-a87ff679a2f3e...</td>\n",
              "      <td>Jonatan</td>\n",
              "      <td>person</td>\n",
              "      <td>senior</td>\n",
              "      <td>male</td>\n",
              "      <td>33.0</td>\n",
              "      <td>7.0</td>\n",
              "    </tr>\n",
              "    <tr>\n",
              "      <th>19</th>\n",
              "      <td>6bb28c0af81044a5f2bf023eb7f253e2-a87ff679a2f3e...</td>\n",
              "      <td>Lucas</td>\n",
              "      <td>person</td>\n",
              "      <td>senior</td>\n",
              "      <td>male</td>\n",
              "      <td>35.0</td>\n",
              "      <td>6.0</td>\n",
              "    </tr>\n",
              "    <tr>\n",
              "      <th>20</th>\n",
              "      <td>51280652ee54bf9e25636110b859faf5-a87ff679a2f3e...</td>\n",
              "      <td>Fernando</td>\n",
              "      <td>person</td>\n",
              "      <td>semi-senior</td>\n",
              "      <td>male</td>\n",
              "      <td>28.0</td>\n",
              "      <td>4.0</td>\n",
              "    </tr>\n",
              "    <tr>\n",
              "      <th>21</th>\n",
              "      <td>f6b8790fd8dcb51f4ccec2e19f6db824-a87ff679a2f3e...</td>\n",
              "      <td>Gastón</td>\n",
              "      <td>person</td>\n",
              "      <td>semi-senior</td>\n",
              "      <td>male</td>\n",
              "      <td>27.0</td>\n",
              "      <td>3.0</td>\n",
              "    </tr>\n",
              "    <tr>\n",
              "      <th>22</th>\n",
              "      <td>533348a1f755b9512eb8b91aa07a300a-a87ff679a2f3e...</td>\n",
              "      <td>Andrea</td>\n",
              "      <td>person</td>\n",
              "      <td>semi-senior</td>\n",
              "      <td>female</td>\n",
              "      <td>27.0</td>\n",
              "      <td>3.0</td>\n",
              "    </tr>\n",
              "    <tr>\n",
              "      <th>23</th>\n",
              "      <td>8ebb5bf7f39a9ec7304a17cdf5063df9-a87ff679a2f3e...</td>\n",
              "      <td>Martin</td>\n",
              "      <td>person</td>\n",
              "      <td>senior</td>\n",
              "      <td>male</td>\n",
              "      <td>34.0</td>\n",
              "      <td>5.0</td>\n",
              "    </tr>\n",
              "  </tbody>\n",
              "</table>\n",
              "</div>"
            ],
            "text/plain": [
              "Campo                                               n.id  ... n.experience\n",
              "2      1ae7f988daa7541df8d9eba692e3949d-c81e728d9d4c2...  ...          3.0\n",
              "3      f496c7004f07dba853bf8fadc28c9650-c81e728d9d4c2...  ...         11.0\n",
              "4      e726642e86168eacfeee3fa8c4da012e-c81e728d9d4c2...  ...         16.0\n",
              "5      10c246e19e023f335e179b937c28a6da-c81e728d9d4c2...  ...          2.0\n",
              "6      bcb93d9680b08656367b3682a9b4c127-c81e728d9d4c2...  ...          3.0\n",
              "7      f9fdac801645d8b673ce785f01658a1e-c81e728d9d4c2...  ...          2.0\n",
              "8      822736b3fe21296f7d5c35a5e13d3ca3-c81e728d9d4c2...  ...          4.0\n",
              "9      a5b6fc8ad5a79c2b57af4137389a7b6b-c81e728d9d4c2...  ...         12.0\n",
              "18     79b60482d282d7fe48287ef484be2d31-a87ff679a2f3e...  ...          7.0\n",
              "19     6bb28c0af81044a5f2bf023eb7f253e2-a87ff679a2f3e...  ...          6.0\n",
              "20     51280652ee54bf9e25636110b859faf5-a87ff679a2f3e...  ...          4.0\n",
              "21     f6b8790fd8dcb51f4ccec2e19f6db824-a87ff679a2f3e...  ...          3.0\n",
              "22     533348a1f755b9512eb8b91aa07a300a-a87ff679a2f3e...  ...          3.0\n",
              "23     8ebb5bf7f39a9ec7304a17cdf5063df9-a87ff679a2f3e...  ...          5.0\n",
              "\n",
              "[14 rows x 7 columns]"
            ]
          },
          "metadata": {
            "tags": []
          }
        }
      ]
    },
    {
      "cell_type": "markdown",
      "metadata": {
        "id": "xNbyxlAv68tf",
        "colab_type": "text"
      },
      "source": [
        "Vamos a necesitar conocer los tipos de datos en caso de querer trabajar con el dataset de personas"
      ]
    },
    {
      "cell_type": "code",
      "metadata": {
        "id": "XsnRD-TG7uZa",
        "colab_type": "code",
        "colab": {
          "base_uri": "https://localhost:8080/",
          "height": 297
        },
        "outputId": "74fdcf49-964d-4ef5-c827-66b49ce912b2"
      },
      "source": [
        "personas.describe()"
      ],
      "execution_count": null,
      "outputs": [
        {
          "output_type": "execute_result",
          "data": {
            "text/html": [
              "<div>\n",
              "<style scoped>\n",
              "    .dataframe tbody tr th:only-of-type {\n",
              "        vertical-align: middle;\n",
              "    }\n",
              "\n",
              "    .dataframe tbody tr th {\n",
              "        vertical-align: top;\n",
              "    }\n",
              "\n",
              "    .dataframe thead th {\n",
              "        text-align: right;\n",
              "    }\n",
              "</style>\n",
              "<table border=\"1\" class=\"dataframe\">\n",
              "  <thead>\n",
              "    <tr style=\"text-align: right;\">\n",
              "      <th></th>\n",
              "      <th>n.age</th>\n",
              "      <th>n.experience</th>\n",
              "    </tr>\n",
              "  </thead>\n",
              "  <tbody>\n",
              "    <tr>\n",
              "      <th>count</th>\n",
              "      <td>14.000000</td>\n",
              "      <td>14.000000</td>\n",
              "    </tr>\n",
              "    <tr>\n",
              "      <th>mean</th>\n",
              "      <td>32.500000</td>\n",
              "      <td>5.785714</td>\n",
              "    </tr>\n",
              "    <tr>\n",
              "      <th>std</th>\n",
              "      <td>7.219099</td>\n",
              "      <td>4.281958</td>\n",
              "    </tr>\n",
              "    <tr>\n",
              "      <th>min</th>\n",
              "      <td>23.000000</td>\n",
              "      <td>2.000000</td>\n",
              "    </tr>\n",
              "    <tr>\n",
              "      <th>25%</th>\n",
              "      <td>27.000000</td>\n",
              "      <td>3.000000</td>\n",
              "    </tr>\n",
              "    <tr>\n",
              "      <th>50%</th>\n",
              "      <td>33.500000</td>\n",
              "      <td>4.000000</td>\n",
              "    </tr>\n",
              "    <tr>\n",
              "      <th>75%</th>\n",
              "      <td>35.000000</td>\n",
              "      <td>6.750000</td>\n",
              "    </tr>\n",
              "    <tr>\n",
              "      <th>max</th>\n",
              "      <td>45.000000</td>\n",
              "      <td>16.000000</td>\n",
              "    </tr>\n",
              "  </tbody>\n",
              "</table>\n",
              "</div>"
            ],
            "text/plain": [
              "           n.age  n.experience\n",
              "count  14.000000     14.000000\n",
              "mean   32.500000      5.785714\n",
              "std     7.219099      4.281958\n",
              "min    23.000000      2.000000\n",
              "25%    27.000000      3.000000\n",
              "50%    33.500000      4.000000\n",
              "75%    35.000000      6.750000\n",
              "max    45.000000     16.000000"
            ]
          },
          "metadata": {
            "tags": []
          },
          "execution_count": 12
        }
      ]
    },
    {
      "cell_type": "markdown",
      "metadata": {
        "id": "rozr_IY5C3HB",
        "colab_type": "text"
      },
      "source": [
        "Para visualizar la distribución de las edades"
      ]
    },
    {
      "cell_type": "code",
      "metadata": {
        "id": "Oki5TRV4C320",
        "colab_type": "code",
        "colab": {
          "base_uri": "https://localhost:8080/",
          "height": 279
        },
        "outputId": "9e448c45-eb86-4eaf-d357-676ea92ced17"
      },
      "source": [
        "import seaborn as sns\n",
        "sns.distplot(personas['n.age'], kde=True);\n"
      ],
      "execution_count": null,
      "outputs": [
        {
          "output_type": "display_data",
          "data": {
            "image/png": "[encoded data removed]",
            "text/plain": [
              "<Figure size 432x288 with 1 Axes>"
            ]
          },
          "metadata": {
            "tags": [],
            "needs_background": "light"
          }
        }
      ]
    },
    {
      "cell_type": "markdown",
      "metadata": {
        "id": "d4KbvJxqGp2U",
        "colab_type": "text"
      },
      "source": [
        "Para calcular la probabilidad de los valores posibles sexo y seniority (category), una forma más sencilla con la operación value_counts de pandas.\n"
      ]
    },
    {
      "cell_type": "code",
      "metadata": {
        "id": "23_bGa7FGojB",
        "colab_type": "code",
        "colab": {
          "base_uri": "https://localhost:8080/",
          "height": 111
        },
        "outputId": "f7b397be-304f-475d-984d-bc1b8387fd7b"
      },
      "source": [
        "data = personas['n.gender'].value_counts(normalize=True).reset_index()\n",
        "data"
      ],
      "execution_count": null,
      "outputs": [
        {
          "output_type": "execute_result",
          "data": {
            "text/html": [
              "<div>\n",
              "<style scoped>\n",
              "    .dataframe tbody tr th:only-of-type {\n",
              "        vertical-align: middle;\n",
              "    }\n",
              "\n",
              "    .dataframe tbody tr th {\n",
              "        vertical-align: top;\n",
              "    }\n",
              "\n",
              "    .dataframe thead th {\n",
              "        text-align: right;\n",
              "    }\n",
              "</style>\n",
              "<table border=\"1\" class=\"dataframe\">\n",
              "  <thead>\n",
              "    <tr style=\"text-align: right;\">\n",
              "      <th></th>\n",
              "      <th>index</th>\n",
              "      <th>n.gender</th>\n",
              "    </tr>\n",
              "  </thead>\n",
              "  <tbody>\n",
              "    <tr>\n",
              "      <th>0</th>\n",
              "      <td>male</td>\n",
              "      <td>0.785714</td>\n",
              "    </tr>\n",
              "    <tr>\n",
              "      <th>1</th>\n",
              "      <td>female</td>\n",
              "      <td>0.214286</td>\n",
              "    </tr>\n",
              "  </tbody>\n",
              "</table>\n",
              "</div>"
            ],
            "text/plain": [
              "    index  n.gender\n",
              "0    male  0.785714\n",
              "1  female  0.214286"
            ]
          },
          "metadata": {
            "tags": []
          },
          "execution_count": 40
        }
      ]
    },
    {
      "cell_type": "code",
      "metadata": {
        "id": "aReM7IpqHDIy",
        "colab_type": "code",
        "colab": {
          "base_uri": "https://localhost:8080/",
          "height": 142
        },
        "outputId": "f474ae7a-aaec-4aa0-a1e5-e9d5d5e63a79"
      },
      "source": [
        "data = personas['n.category'].value_counts(normalize=True).reset_index()\n",
        "data"
      ],
      "execution_count": null,
      "outputs": [
        {
          "output_type": "execute_result",
          "data": {
            "text/html": [
              "<div>\n",
              "<style scoped>\n",
              "    .dataframe tbody tr th:only-of-type {\n",
              "        vertical-align: middle;\n",
              "    }\n",
              "\n",
              "    .dataframe tbody tr th {\n",
              "        vertical-align: top;\n",
              "    }\n",
              "\n",
              "    .dataframe thead th {\n",
              "        text-align: right;\n",
              "    }\n",
              "</style>\n",
              "<table border=\"1\" class=\"dataframe\">\n",
              "  <thead>\n",
              "    <tr style=\"text-align: right;\">\n",
              "      <th></th>\n",
              "      <th>index</th>\n",
              "      <th>n.category</th>\n",
              "    </tr>\n",
              "  </thead>\n",
              "  <tbody>\n",
              "    <tr>\n",
              "      <th>0</th>\n",
              "      <td>senior</td>\n",
              "      <td>0.428571</td>\n",
              "    </tr>\n",
              "    <tr>\n",
              "      <th>1</th>\n",
              "      <td>semi-senior</td>\n",
              "      <td>0.357143</td>\n",
              "    </tr>\n",
              "    <tr>\n",
              "      <th>2</th>\n",
              "      <td>junior</td>\n",
              "      <td>0.214286</td>\n",
              "    </tr>\n",
              "  </tbody>\n",
              "</table>\n",
              "</div>"
            ],
            "text/plain": [
              "         index  n.category\n",
              "0       senior    0.428571\n",
              "1  semi-senior    0.357143\n",
              "2       junior    0.214286"
            ]
          },
          "metadata": {
            "tags": []
          },
          "execution_count": 42
        }
      ]
    },
    {
      "cell_type": "markdown",
      "metadata": {
        "id": "NOmtSJxwAkTy",
        "colab_type": "text"
      },
      "source": [
        "Para poder trabajar con ambos dataset necesitamos hacer lo siguiente"
      ]
    },
    {
      "cell_type": "code",
      "metadata": {
        "id": "mgljTsQRAjz8",
        "colab_type": "code",
        "colab": {}
      },
      "source": [
        "resultante = nodos.merge(relaciones, left_on='n.id', right_on='id_node_a')"
      ],
      "execution_count": null,
      "outputs": []
    },
    {
      "cell_type": "code",
      "metadata": {
        "id": "kl_SwopOKoXW",
        "colab_type": "code",
        "colab": {
          "base_uri": "https://localhost:8080/",
          "height": 309
        },
        "outputId": "3a1a05cc-1446-44ad-89bd-7b16d4327147"
      },
      "source": [
        "display(resultante.head())"
      ],
      "execution_count": null,
      "outputs": [
        {
          "output_type": "display_data",
          "data": {
            "text/html": [
              "<div>\n",
              "<style scoped>\n",
              "    .dataframe tbody tr th:only-of-type {\n",
              "        vertical-align: middle;\n",
              "    }\n",
              "\n",
              "    .dataframe tbody tr th {\n",
              "        vertical-align: top;\n",
              "    }\n",
              "\n",
              "    .dataframe thead th {\n",
              "        text-align: right;\n",
              "    }\n",
              "</style>\n",
              "<table border=\"1\" class=\"dataframe\">\n",
              "  <thead>\n",
              "    <tr style=\"text-align: right;\">\n",
              "      <th>Campo</th>\n",
              "      <th>n.id</th>\n",
              "      <th>name_node_a_x</th>\n",
              "      <th>n.type</th>\n",
              "      <th>n.category</th>\n",
              "      <th>n.gender</th>\n",
              "      <th>n.age</th>\n",
              "      <th>n.experience</th>\n",
              "      <th>id_node_a</th>\n",
              "      <th>name_node_a_y</th>\n",
              "      <th>id_node_b</th>\n",
              "      <th>name_node_b</th>\n",
              "      <th>id_relationship</th>\n",
              "    </tr>\n",
              "  </thead>\n",
              "  <tbody>\n",
              "    <tr>\n",
              "      <th>0</th>\n",
              "      <td>eeca1815ef2efc089f12bfe8c1c4c7f7-c81e728d9d4c2...</td>\n",
              "      <td>Team3</td>\n",
              "      <td>team</td>\n",
              "      <td>NaN</td>\n",
              "      <td>NaN</td>\n",
              "      <td>0.0</td>\n",
              "      <td>NaN</td>\n",
              "      <td>eeca1815ef2efc089f12bfe8c1c4c7f7-c81e728d9d4c2...</td>\n",
              "      <td>Team3</td>\n",
              "      <td>f496c7004f07dba853bf8fadc28c9650-c81e728d9d4c2...</td>\n",
              "      <td>Daniel</td>\n",
              "      <td>78031203cb9f8df3b96024f973e93dce-c81e728d9d4c2...</td>\n",
              "    </tr>\n",
              "    <tr>\n",
              "      <th>1</th>\n",
              "      <td>eeca1815ef2efc089f12bfe8c1c4c7f7-c81e728d9d4c2...</td>\n",
              "      <td>Team3</td>\n",
              "      <td>team</td>\n",
              "      <td>NaN</td>\n",
              "      <td>NaN</td>\n",
              "      <td>0.0</td>\n",
              "      <td>NaN</td>\n",
              "      <td>eeca1815ef2efc089f12bfe8c1c4c7f7-c81e728d9d4c2...</td>\n",
              "      <td>Team3</td>\n",
              "      <td>1ae7f988daa7541df8d9eba692e3949d-c81e728d9d4c2...</td>\n",
              "      <td>Marcela</td>\n",
              "      <td>920da6fdbb28002170bd11ac31f931fa-c81e728d9d4c2...</td>\n",
              "    </tr>\n",
              "    <tr>\n",
              "      <th>2</th>\n",
              "      <td>eeca1815ef2efc089f12bfe8c1c4c7f7-c81e728d9d4c2...</td>\n",
              "      <td>Team3</td>\n",
              "      <td>team</td>\n",
              "      <td>NaN</td>\n",
              "      <td>NaN</td>\n",
              "      <td>0.0</td>\n",
              "      <td>NaN</td>\n",
              "      <td>eeca1815ef2efc089f12bfe8c1c4c7f7-c81e728d9d4c2...</td>\n",
              "      <td>Team3</td>\n",
              "      <td>a5b6fc8ad5a79c2b57af4137389a7b6b-c81e728d9d4c2...</td>\n",
              "      <td>Marcelo</td>\n",
              "      <td>d5f338d4f13a96698fda12514a76e4ad-c81e728d9d4c2...</td>\n",
              "    </tr>\n",
              "    <tr>\n",
              "      <th>3</th>\n",
              "      <td>73cceb4a6d1f1fd7e91d38c2b906be15-c81e728d9d4c2...</td>\n",
              "      <td>Team2</td>\n",
              "      <td>team</td>\n",
              "      <td>NaN</td>\n",
              "      <td>NaN</td>\n",
              "      <td>0.0</td>\n",
              "      <td>NaN</td>\n",
              "      <td>73cceb4a6d1f1fd7e91d38c2b906be15-c81e728d9d4c2...</td>\n",
              "      <td>Team2</td>\n",
              "      <td>e726642e86168eacfeee3fa8c4da012e-c81e728d9d4c2...</td>\n",
              "      <td>Leonardo</td>\n",
              "      <td>bad0c7e4278c68df0eeadaaa9499f260-c81e728d9d4c2...</td>\n",
              "    </tr>\n",
              "    <tr>\n",
              "      <th>4</th>\n",
              "      <td>73cceb4a6d1f1fd7e91d38c2b906be15-c81e728d9d4c2...</td>\n",
              "      <td>Team2</td>\n",
              "      <td>team</td>\n",
              "      <td>NaN</td>\n",
              "      <td>NaN</td>\n",
              "      <td>0.0</td>\n",
              "      <td>NaN</td>\n",
              "      <td>73cceb4a6d1f1fd7e91d38c2b906be15-c81e728d9d4c2...</td>\n",
              "      <td>Team2</td>\n",
              "      <td>10c246e19e023f335e179b937c28a6da-c81e728d9d4c2...</td>\n",
              "      <td>Matias</td>\n",
              "      <td>ff8fe587c76f4587b2fe3c6a4bd98d86-c81e728d9d4c2...</td>\n",
              "    </tr>\n",
              "  </tbody>\n",
              "</table>\n",
              "</div>"
            ],
            "text/plain": [
              "Campo                                               n.id  ...                                    id_relationship\n",
              "0      eeca1815ef2efc089f12bfe8c1c4c7f7-c81e728d9d4c2...  ...  78031203cb9f8df3b96024f973e93dce-c81e728d9d4c2...\n",
              "1      eeca1815ef2efc089f12bfe8c1c4c7f7-c81e728d9d4c2...  ...  920da6fdbb28002170bd11ac31f931fa-c81e728d9d4c2...\n",
              "2      eeca1815ef2efc089f12bfe8c1c4c7f7-c81e728d9d4c2...  ...  d5f338d4f13a96698fda12514a76e4ad-c81e728d9d4c2...\n",
              "3      73cceb4a6d1f1fd7e91d38c2b906be15-c81e728d9d4c2...  ...  bad0c7e4278c68df0eeadaaa9499f260-c81e728d9d4c2...\n",
              "4      73cceb4a6d1f1fd7e91d38c2b906be15-c81e728d9d4c2...  ...  ff8fe587c76f4587b2fe3c6a4bd98d86-c81e728d9d4c2...\n",
              "\n",
              "[5 rows x 12 columns]"
            ]
          },
          "metadata": {
            "tags": []
          }
        }
      ]
    },
    {
      "cell_type": "markdown",
      "metadata": {
        "id": "Bh43aFWkKw6E",
        "colab_type": "text"
      },
      "source": [
        "Si queremos trabajar con las colunmas de padre e hijo de esta primer relación"
      ]
    },
    {
      "cell_type": "code",
      "metadata": {
        "id": "KlgjNAvdJB_D",
        "colab_type": "code",
        "colab": {
          "base_uri": "https://localhost:8080/",
          "height": 419
        },
        "outputId": "f86e1ff0-a508-4b9a-bffa-4817680cbcef"
      },
      "source": [
        "resultante[resultante['n.type']=='person'][['n.category','name_node_a_y','name_node_b']]"
      ],
      "execution_count": null,
      "outputs": [
        {
          "output_type": "execute_result",
          "data": {
            "text/html": [
              "<div>\n",
              "<style scoped>\n",
              "    .dataframe tbody tr th:only-of-type {\n",
              "        vertical-align: middle;\n",
              "    }\n",
              "\n",
              "    .dataframe tbody tr th {\n",
              "        vertical-align: top;\n",
              "    }\n",
              "\n",
              "    .dataframe thead th {\n",
              "        text-align: right;\n",
              "    }\n",
              "</style>\n",
              "<table border=\"1\" class=\"dataframe\">\n",
              "  <thead>\n",
              "    <tr style=\"text-align: right;\">\n",
              "      <th>Campo</th>\n",
              "      <th>n.category</th>\n",
              "      <th>name_node_a_y</th>\n",
              "      <th>name_node_b</th>\n",
              "    </tr>\n",
              "  </thead>\n",
              "  <tbody>\n",
              "    <tr>\n",
              "      <th>8</th>\n",
              "      <td>junior</td>\n",
              "      <td>Marcela</td>\n",
              "      <td>Developer</td>\n",
              "    </tr>\n",
              "    <tr>\n",
              "      <th>9</th>\n",
              "      <td>junior</td>\n",
              "      <td>Marcela</td>\n",
              "      <td>windows</td>\n",
              "    </tr>\n",
              "    <tr>\n",
              "      <th>10</th>\n",
              "      <td>junior</td>\n",
              "      <td>Marcela</td>\n",
              "      <td>Linux</td>\n",
              "    </tr>\n",
              "    <tr>\n",
              "      <th>11</th>\n",
              "      <td>junior</td>\n",
              "      <td>Marcela</td>\n",
              "      <td>MySQL</td>\n",
              "    </tr>\n",
              "    <tr>\n",
              "      <th>12</th>\n",
              "      <td>junior</td>\n",
              "      <td>Marcela</td>\n",
              "      <td>phyton</td>\n",
              "    </tr>\n",
              "    <tr>\n",
              "      <th>...</th>\n",
              "      <td>...</td>\n",
              "      <td>...</td>\n",
              "      <td>...</td>\n",
              "    </tr>\n",
              "    <tr>\n",
              "      <th>118</th>\n",
              "      <td>senior</td>\n",
              "      <td>Martin</td>\n",
              "      <td>Data Scientist</td>\n",
              "    </tr>\n",
              "    <tr>\n",
              "      <th>119</th>\n",
              "      <td>senior</td>\n",
              "      <td>Martin</td>\n",
              "      <td>Vertica</td>\n",
              "    </tr>\n",
              "    <tr>\n",
              "      <th>120</th>\n",
              "      <td>senior</td>\n",
              "      <td>Martin</td>\n",
              "      <td>SQL Server</td>\n",
              "    </tr>\n",
              "    <tr>\n",
              "      <th>121</th>\n",
              "      <td>senior</td>\n",
              "      <td>Martin</td>\n",
              "      <td>phyton</td>\n",
              "    </tr>\n",
              "    <tr>\n",
              "      <th>122</th>\n",
              "      <td>senior</td>\n",
              "      <td>Martin</td>\n",
              "      <td>ODI</td>\n",
              "    </tr>\n",
              "  </tbody>\n",
              "</table>\n",
              "<p>106 rows × 3 columns</p>\n",
              "</div>"
            ],
            "text/plain": [
              "Campo n.category name_node_a_y     name_node_b\n",
              "8         junior       Marcela       Developer\n",
              "9         junior       Marcela         windows\n",
              "10        junior       Marcela           Linux\n",
              "11        junior       Marcela           MySQL\n",
              "12        junior       Marcela          phyton\n",
              "..           ...           ...             ...\n",
              "118       senior        Martin  Data Scientist\n",
              "119       senior        Martin         Vertica\n",
              "120       senior        Martin      SQL Server\n",
              "121       senior        Martin          phyton\n",
              "122       senior        Martin             ODI\n",
              "\n",
              "[106 rows x 3 columns]"
            ]
          },
          "metadata": {
            "tags": []
          },
          "execution_count": 57
        }
      ]
    },
    {
      "cell_type": "markdown",
      "metadata": {
        "id": "QaQYlZavj1qF",
        "colab_type": "text"
      },
      "source": [
        "# Análisis exploratorio y curación de datos\n",
        "En ésta entrega se comenzará a preparar el dataset para los prácticos siguientes. Algunos puntos de aquí ya han sido cubiertos en la entrega anterior para hacer el análisis. Otros pueden tener un tratamiento especial según nuestro enfoque de NLP.\n",
        "\n",
        "## Listado de puntos a cubrir en análisis y curación:\n",
        "\n",
        "a. Asegurarse de tener ids/claves únicas\n",
        "b. Chequear que no haya datos duplicados\n",
        "c. No usar caracteres especiales en las etiquetas de variables\n",
        "d. Verificar que no haya problemas de codificación/encoding\n",
        "e. Verificar la consistencia de las variables\n",
        "f. Identificar y documentar valores atípicos/outliers. Qué outliers pueden haberse encontrado en el análisis del práctico previo?\n",
        "g. Tratar valores faltantes: quitar o imputar. En éste caso, se correspondería tambien con buscar si hay conversaciones vacías, y quitarlas ya que no aportarían nada a los prácticos siguientes\n",
        "h. Codificar variables: las variables categóricas deben ser etiquetadas como variables numéricas, no como cadenas. Aquí ya se puede empezar a pensar en vectorizar las frases para los prácticos posteriores.\n",
        "Con los puntos anteriores ya se puede preparar los datasets que vamos a usar más adelante.\n",
        "\n",
        "DATASET1- Preparar un dataset para usar modelos supervisados. Éste debe incluir las personas, los conocimientos, los perfiles (skills) opcional (los teams), que son las que se van a usar para en armar una regresión lineal sobre las personas con los años de experiencias vs el ranking que posee de sus conocimientos.\n",
        "\n",
        "DATASET2- Preparar el dataset para el práctico de aprendizaje no supervisado. Éste está orientado a descubrir dentificar los perfiles que puede poseer cada persona, en base a ciertas personas ya clasificadas, por lo que en éste caso debe filtrar éste subconjunto de perfiles (Skills).\n",
        "\n",
        "Por último, guarde los datasets en un formato conveniente para usar después. Importante: guardarlos en nuevos archivos para no sobreescribir los datos crudos u originales\n"
      ]
    }
  ]
}